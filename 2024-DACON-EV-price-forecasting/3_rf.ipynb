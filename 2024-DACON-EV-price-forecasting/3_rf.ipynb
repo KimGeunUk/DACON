{
 "cells": [
  {
   "cell_type": "code",
   "execution_count": 68,
   "metadata": {},
   "outputs": [],
   "source": [
    "import os\n",
    "import numpy as np\n",
    "import pandas as pd\n",
    "import optuna\n",
    "import category_encoders as ce\n",
    "import joblib\n",
    "\n",
    "from glob import glob\n",
    "from warnings import simplefilter\n",
    "from sklearn.ensemble import RandomForestRegressor\n",
    "from sklearn.model_selection import KFold\n",
    "from sklearn.preprocessing import MinMaxScaler, StandardScaler, RobustScaler, LabelEncoder"
   ]
  },
  {
   "cell_type": "code",
   "execution_count": 69,
   "metadata": {},
   "outputs": [],
   "source": [
    "simplefilter(action=\"ignore\", category=pd.errors.PerformanceWarning)\n",
    "simplefilter(action=\"ignore\", category=FutureWarning)"
   ]
  },
  {
   "cell_type": "code",
   "execution_count": 70,
   "metadata": {},
   "outputs": [],
   "source": [
    "PATH = os.getcwd()\n",
    "train = pd.read_csv(f'{PATH}/data/train.csv').drop(columns=['ID'], axis=1)\n",
    "test = pd.read_csv(f'{PATH}/data/test.csv').drop(columns=['ID'], axis=1)"
   ]
  },
  {
   "cell_type": "code",
   "execution_count": 71,
   "metadata": {},
   "outputs": [],
   "source": [
    "rename_columns = {\n",
    "    \"제조사\": \"Manufacturer\",           \"모델\": \"Model\",\n",
    "    \"차량상태\": \"VehicleCondition\",     \"배터리용량\": \"BatteryCapacity\",\n",
    "    \"구동방식\": \"DriveType\",            \"주행거리(km)\": \"MileageKm\",\n",
    "    \"보증기간(년)\": \"WarrantyYears\",    \"사고이력\": \"AccidentHistory\",\n",
    "    \"연식(년)\": \"Year\",                 \"가격(백만원)\": \"Price\",\n",
    "}\n",
    "\n",
    "train = train.rename(columns=rename_columns)\n",
    "test = test.rename(columns=rename_columns)"
   ]
  },
  {
   "cell_type": "code",
   "execution_count": 72,
   "metadata": {},
   "outputs": [],
   "source": [
    "# 배터리 용량 결측치 처리\n",
    "upper7 = train[train['WarrantyYears']>=7]['BatteryCapacity'].mean()\n",
    "lower7 = train[train['WarrantyYears']<7]['BatteryCapacity'].mean()\n",
    "\n",
    "train.fillna(-1, inplace=True)\n",
    "test.fillna(-1, inplace=True)\n",
    "\n",
    "def fill_battery(row):\n",
    "    if row['BatteryCapacity'] == -1:\n",
    "        if row['WarrantyYears'] >= 7:\n",
    "            return upper7\n",
    "        else:\n",
    "            return lower7\n",
    "    return row['BatteryCapacity']\n",
    "\n",
    "train['BatteryCapacity'] = train.apply(fill_battery, axis=1)\n",
    "test['BatteryCapacity'] = test.apply(fill_battery, axis=1)"
   ]
  },
  {
   "cell_type": "code",
   "execution_count": 73,
   "metadata": {},
   "outputs": [],
   "source": [
    "bins = [0, 60, 80, 100]\n",
    "labels = [\"s\", \"m\", \"l\"]\n",
    "train[\"BatteryCapacity_cut\"] = pd.cut(train[\"BatteryCapacity\"], bins=bins, labels=labels, right=False, include_lowest=True)\n",
    "test[\"BatteryCapacity_cut\"] = pd.cut(test[\"BatteryCapacity\"], bins=bins, labels=labels, right=False, include_lowest=True)"
   ]
  },
  {
   "cell_type": "code",
   "execution_count": 74,
   "metadata": {},
   "outputs": [],
   "source": [
    "train['f1'] = train['BatteryCapacity'] / train['MileageKm']\n",
    "test['f1'] = test['BatteryCapacity'] / test['MileageKm']\n",
    "\n",
    "train['Year'] = 2024 - train['Year']\n",
    "test['Year'] = 2024 -  test['Year']\n",
    "\n",
    "train['WarrantyYears'] = 2024 - train['WarrantyYears']\n",
    "test['WarrantyYears'] = 2024 -  test['WarrantyYears']"
   ]
  },
  {
   "cell_type": "code",
   "execution_count": 75,
   "metadata": {},
   "outputs": [],
   "source": [
    "without_columns = ['ID', 'Price']\n",
    "categorical_columns = [col for col in train.columns if (train[col].dtype in ['object', 'category']) and (col not in without_columns)]\n",
    "numerical_columns  = [col for col in train.columns if col not in categorical_columns and (col not in without_columns)]\n",
    "\n",
    "for i in range(len(numerical_columns)):\n",
    "    for j in range(i, len(numerical_columns)):\n",
    "        train[f'{numerical_columns[i]}*{numerical_columns[j]}'] = train[numerical_columns[i]] * train[numerical_columns[j]]\n",
    "        test[f'{numerical_columns[i]}*{numerical_columns[j]}'] = test[numerical_columns[i]] * test[numerical_columns[j]]\n",
    "        \n",
    "numerical_columns  = [col for col in train.columns if col not in categorical_columns and (col not in without_columns)]"
   ]
  },
  {
   "cell_type": "code",
   "execution_count": 76,
   "metadata": {},
   "outputs": [],
   "source": [
    "# https://github.com/rapidsai/deeplearning/blob/main/RecSys2020Tutorial/03_3_TargetEncoding.ipynb\n",
    "def target_encode(X_train, X_valid, X_test, encode_col, target_col, smooth=0.0, agg=\"mean\"):\n",
    "    encoded_col = f'TE_{agg.upper()}_' + '_'.join(encode_col)\n",
    "    \n",
    "    df_tmp = X_train[encode_col + [target_col]].groupby(encode_col).agg([agg, 'count']).reset_index()\n",
    "    if agg==\"mean\": mn = X_train[target_col].mean()\n",
    "    elif agg==\"median\": mn = X_train[target_col].median()\n",
    "    elif agg==\"std\": mn = X_train[target_col].std()\n",
    "    elif agg==\"min\": mn = X_train[target_col].min()\n",
    "    elif agg==\"max\": mn = X_train[target_col].max()\n",
    "    \n",
    "    df_tmp.columns = encode_col + [agg, 'count']\n",
    "    df_tmp['TE_tmp'] = ((df_tmp[agg] * df_tmp['count']) + (mn * smooth)) / (df_tmp['count'] + smooth)\n",
    "    \n",
    "    X_train = X_train.merge(df_tmp[encode_col + ['TE_tmp']], how='left', left_on=encode_col, right_on=encode_col)\n",
    "    X_train[encoded_col] = X_train['TE_tmp'].fillna(mn)\n",
    "    X_train = X_train.drop(columns=['TE_tmp'])\n",
    "    # X_train[encoded_col] = X_train[encoded_col].astype(\"float32\")\n",
    "    \n",
    "    df_tmp_m = X_valid[encode_col].merge(df_tmp, how='left', left_on=encode_col, right_on=encode_col)\n",
    "    X_valid[encoded_col] = df_tmp_m['TE_tmp'].fillna(mn).values\n",
    "    # X_valid[encoded_col] = X_valid[encoded_col].astype(\"float32\")\n",
    "\n",
    "    df_tmp_m = X_test[encode_col].merge(df_tmp, how='left', left_on=encode_col, right_on=encode_col)\n",
    "    X_test[encoded_col] = df_tmp_m['TE_tmp'].fillna(mn).values\n",
    "    # X_test[encoded_col] = X_test[encoded_col].astype(\"float32\")\n",
    "    \n",
    "    return X_train, X_valid, X_test"
   ]
  },
  {
   "cell_type": "code",
   "execution_count": 77,
   "metadata": {},
   "outputs": [],
   "source": [
    "def trainer(params, log=False):\n",
    "    target = \"Price\"\n",
    "\n",
    "    SEED = 909\n",
    "    FOLDS = 10\n",
    "    kf = KFold(n_splits=FOLDS, random_state=SEED, shuffle=True)\n",
    "\n",
    "    # SAVE OOF AND TEST PREDS\n",
    "    oof = np.zeros( len(train) )\n",
    "    pred = np.zeros( len(test) )\n",
    "    rmse = 0.0\n",
    "    \n",
    "    if log: print(f\"parameters : {params}\")\n",
    "\n",
    "    # TRAIN/INFER K-FOLD\n",
    "    for fold, (train_idx, valid_idx) in enumerate(kf.split(train)):\n",
    "        \n",
    "        # PRINT FOLD NUMBER\n",
    "        if log: print(f\"### Fold {fold+1} / {FOLDS} ###\")\n",
    "        \n",
    "        # GET TRAIN, VALID, TEST\n",
    "        X_train = train.loc[train_idx, :].copy()\n",
    "        y_train = train.loc[train_idx, target]\n",
    "        \n",
    "        X_valid = train.loc[valid_idx, :].copy()\n",
    "        y_valid = train.loc[valid_idx, target]\n",
    "        \n",
    "        X_test = test.copy()        \n",
    "      \n",
    "        ## Target Encoder        \n",
    "        encoder_columns = ['Manufacturer', 'Model']\n",
    "        for column in encoder_columns:\n",
    "            X_train, X_valid, X_test = target_encode(X_train, X_valid, X_test, encode_col=[column], target_col='Price', smooth=0.0, agg=\"mean\")\n",
    "\n",
    "        # Preprocess \n",
    "        X_train = X_train.drop(columns=['Price'] + ['Manufacturer', 'Model'], axis=1)\n",
    "        X_valid = X_valid.drop(columns=['Price'] + ['Manufacturer', 'Model'], axis=1)\n",
    "        X_test = X_test.drop(columns=['Manufacturer', 'Model'], axis=1)\n",
    " \n",
    "        ## Category Encoder\n",
    "        encoder_columns = ['VehicleCondition', 'DriveType', 'AccidentHistory', 'BatteryCapacity_cut']\n",
    "        enc = ce.PolynomialEncoder(cols=encoder_columns)\n",
    "        X_train = enc.fit_transform(X_train)\n",
    "        X_valid = enc.transform(X_valid)\n",
    "        X_test = enc.transform(X_test)\n",
    "\n",
    "        ## Scaler\n",
    "        scaler_columns = numerical_columns\n",
    "        ss = StandardScaler()\n",
    "        X_train[scaler_columns] = ss.fit_transform(X_train[scaler_columns])\n",
    "        X_valid[scaler_columns] = ss.transform(X_valid[scaler_columns])\n",
    "        X_test[scaler_columns] = ss.transform(X_test[scaler_columns])\n",
    "        \n",
    "        # FIT MODEL    \n",
    "        model = RandomForestRegressor(\n",
    "            **params,\n",
    "            random_state=SEED,\n",
    "        )\n",
    "        \n",
    "        model.fit(\n",
    "            X_train, y_train,\n",
    "        ) \n",
    "        \n",
    "        # INFER OOF AND TEST\n",
    "        oof[valid_idx] = model.predict(X_valid)    \n",
    "        pred += model.predict(X_test)\n",
    "        \n",
    "        rmse_fold = np.sqrt(np.mean((y_valid - oof[valid_idx]) ** 2))\n",
    "        if log: print(f\"-> Fold {fold+1} RMSE = {rmse_fold:.5f}\")\n",
    "        rmse += rmse_fold\n",
    "        \n",
    "    pred /= FOLDS\n",
    "    rmse /= FOLDS\n",
    "    if log: print(f\"-> Folds RMSE = {rmse:.5f}\")\n",
    "    \n",
    "    return rmse, pred, model"
   ]
  },
  {
   "cell_type": "code",
   "execution_count": null,
   "metadata": {},
   "outputs": [
    {
     "name": "stderr",
     "output_type": "stream",
     "text": [
      "[I 2025-01-23 10:05:23,568] A new study created in memory with name: no-name-26adcf83-d007-4b39-8eda-2d1d51dcdee1\n"
     ]
    },
    {
     "name": "stderr",
     "output_type": "stream",
     "text": [
      "[I 2025-01-23 10:06:49,587] Trial 0 finished with value: 1.7816287077285782 and parameters: {'min_samples_leaf': 41}. Best is trial 0 with value: 1.7816287077285782.\n",
      "[I 2025-01-23 10:08:17,146] Trial 1 finished with value: 1.7816287077285782 and parameters: {'min_samples_leaf': 41}. Best is trial 0 with value: 1.7816287077285782.\n",
      "[I 2025-01-23 10:09:39,432] Trial 2 finished with value: 1.9757671855653682 and parameters: {'min_samples_leaf': 55}. Best is trial 0 with value: 1.7816287077285782.\n",
      "[I 2025-01-23 10:10:59,461] Trial 3 finished with value: 1.804072331311776 and parameters: {'min_samples_leaf': 43}. Best is trial 0 with value: 1.7816287077285782.\n",
      "[I 2025-01-23 10:12:22,537] Trial 4 finished with value: 1.8987207525155605 and parameters: {'min_samples_leaf': 50}. Best is trial 0 with value: 1.7816287077285782.\n",
      "[I 2025-01-23 10:13:45,761] Trial 5 finished with value: 1.8603517989373408 and parameters: {'min_samples_leaf': 48}. Best is trial 0 with value: 1.7816287077285782.\n",
      "[I 2025-01-23 10:15:12,591] Trial 6 finished with value: 2.020949938189406 and parameters: {'min_samples_leaf': 60}. Best is trial 0 with value: 1.7816287077285782.\n",
      "[I 2025-01-23 10:16:29,843] Trial 7 finished with value: 1.8783874718669549 and parameters: {'min_samples_leaf': 49}. Best is trial 0 with value: 1.7816287077285782.\n",
      "[I 2025-01-23 10:17:46,101] Trial 8 finished with value: 1.9986090963657044 and parameters: {'min_samples_leaf': 57}. Best is trial 0 with value: 1.7816287077285782.\n",
      "[I 2025-01-23 10:19:03,412] Trial 9 finished with value: 1.9634030800931057 and parameters: {'min_samples_leaf': 54}. Best is trial 0 with value: 1.7816287077285782.\n",
      "[I 2025-01-23 10:20:45,114] Trial 10 finished with value: 1.594161356770465 and parameters: {'min_samples_leaf': 31}. Best is trial 10 with value: 1.594161356770465.\n",
      "[I 2025-01-23 10:22:21,708] Trial 11 finished with value: 1.594161356770465 and parameters: {'min_samples_leaf': 31}. Best is trial 10 with value: 1.594161356770465.\n",
      "[I 2025-01-23 10:23:54,375] Trial 12 finished with value: 1.594161356770465 and parameters: {'min_samples_leaf': 31}. Best is trial 10 with value: 1.594161356770465.\n",
      "[I 2025-01-23 10:25:28,629] Trial 13 finished with value: 1.5768047130603362 and parameters: {'min_samples_leaf': 30}. Best is trial 13 with value: 1.5768047130603362.\n",
      "[I 2025-01-23 10:26:52,171] Trial 14 finished with value: 1.7088538879886788 and parameters: {'min_samples_leaf': 36}. Best is trial 13 with value: 1.5768047130603362.\n",
      "[I 2025-01-23 10:28:16,006] Trial 15 finished with value: 1.7088538879886788 and parameters: {'min_samples_leaf': 36}. Best is trial 13 with value: 1.5768047130603362.\n",
      "[I 2025-01-23 10:29:44,455] Trial 16 finished with value: 1.6885840148208662 and parameters: {'min_samples_leaf': 35}. Best is trial 13 with value: 1.5768047130603362.\n",
      "[I 2025-01-23 10:31:05,283] Trial 17 finished with value: 1.594161356770465 and parameters: {'min_samples_leaf': 31}. Best is trial 13 with value: 1.5768047130603362.\n",
      "[I 2025-01-23 10:32:18,902] Trial 18 finished with value: 2.0359333593609596 and parameters: {'min_samples_leaf': 64}. Best is trial 13 with value: 1.5768047130603362.\n",
      "[I 2025-01-23 10:33:43,261] Trial 19 finished with value: 1.8106968131299024 and parameters: {'min_samples_leaf': 44}. Best is trial 13 with value: 1.5768047130603362.\n",
      "[I 2025-01-23 10:35:27,569] Trial 20 finished with value: 1.7463302572888282 and parameters: {'min_samples_leaf': 38}. Best is trial 13 with value: 1.5768047130603362.\n",
      "[I 2025-01-23 10:37:01,396] Trial 21 finished with value: 1.5768047130603362 and parameters: {'min_samples_leaf': 30}. Best is trial 13 with value: 1.5768047130603362.\n",
      "[I 2025-01-23 10:38:24,087] Trial 22 finished with value: 1.5768047130603362 and parameters: {'min_samples_leaf': 30}. Best is trial 13 with value: 1.5768047130603362.\n",
      "[I 2025-01-23 10:39:50,851] Trial 23 finished with value: 1.6633372182314807 and parameters: {'min_samples_leaf': 34}. Best is trial 13 with value: 1.5768047130603362.\n",
      "[I 2025-01-23 10:41:16,791] Trial 24 finished with value: 1.5768047130603362 and parameters: {'min_samples_leaf': 30}. Best is trial 13 with value: 1.5768047130603362.\n",
      "[I 2025-01-23 10:42:33,424] Trial 25 finished with value: 1.7629833828114585 and parameters: {'min_samples_leaf': 39}. Best is trial 13 with value: 1.5768047130603362.\n",
      "[I 2025-01-23 10:43:56,616] Trial 26 finished with value: 1.6633372182314807 and parameters: {'min_samples_leaf': 34}. Best is trial 13 with value: 1.5768047130603362.\n",
      "[I 2025-01-23 10:45:20,014] Trial 27 finished with value: 1.640835150494831 and parameters: {'min_samples_leaf': 33}. Best is trial 13 with value: 1.5768047130603362.\n",
      "[I 2025-01-23 10:46:36,314] Trial 28 finished with value: 1.7286350002055513 and parameters: {'min_samples_leaf': 37}. Best is trial 13 with value: 1.5768047130603362.\n",
      "[I 2025-01-23 10:48:01,213] Trial 29 finished with value: 1.772703418717644 and parameters: {'min_samples_leaf': 40}. Best is trial 13 with value: 1.5768047130603362.\n",
      "[I 2025-01-23 10:49:14,841] Trial 30 finished with value: 1.804072331311776 and parameters: {'min_samples_leaf': 43}. Best is trial 13 with value: 1.5768047130603362.\n",
      "[I 2025-01-23 10:50:37,693] Trial 31 finished with value: 1.5768047130603362 and parameters: {'min_samples_leaf': 30}. Best is trial 13 with value: 1.5768047130603362.\n",
      "[I 2025-01-23 10:52:03,686] Trial 32 finished with value: 1.640835150494831 and parameters: {'min_samples_leaf': 33}. Best is trial 13 with value: 1.5768047130603362.\n",
      "[I 2025-01-23 10:53:27,894] Trial 33 finished with value: 1.5768047130603362 and parameters: {'min_samples_leaf': 30}. Best is trial 13 with value: 1.5768047130603362.\n",
      "[I 2025-01-23 10:54:52,854] Trial 34 finished with value: 1.640835150494831 and parameters: {'min_samples_leaf': 33}. Best is trial 13 with value: 1.5768047130603362.\n",
      "[I 2025-01-23 10:56:16,524] Trial 35 finished with value: 1.6185447995473985 and parameters: {'min_samples_leaf': 32}. Best is trial 13 with value: 1.5768047130603362.\n",
      "[I 2025-01-23 10:57:48,958] Trial 36 finished with value: 1.8330216614197319 and parameters: {'min_samples_leaf': 46}. Best is trial 13 with value: 1.5768047130603362.\n",
      "[I 2025-01-23 10:59:06,241] Trial 37 finished with value: 1.7816287077285782 and parameters: {'min_samples_leaf': 41}. Best is trial 13 with value: 1.5768047130603362.\n",
      "[I 2025-01-23 11:00:27,655] Trial 38 finished with value: 1.6885840148208662 and parameters: {'min_samples_leaf': 35}. Best is trial 13 with value: 1.5768047130603362.\n",
      "[I 2025-01-23 11:01:40,055] Trial 39 finished with value: 1.9156230143079331 and parameters: {'min_samples_leaf': 51}. Best is trial 13 with value: 1.5768047130603362.\n",
      "[I 2025-01-23 11:02:54,977] Trial 40 finished with value: 1.5768047130603362 and parameters: {'min_samples_leaf': 30}. Best is trial 13 with value: 1.5768047130603362.\n",
      "[I 2025-01-23 11:04:23,413] Trial 41 finished with value: 1.5768047130603362 and parameters: {'min_samples_leaf': 30}. Best is trial 13 with value: 1.5768047130603362.\n",
      "[I 2025-01-23 11:05:49,095] Trial 42 finished with value: 1.6185447995473985 and parameters: {'min_samples_leaf': 32}. Best is trial 13 with value: 1.5768047130603362.\n",
      "[I 2025-01-23 11:07:12,941] Trial 43 finished with value: 1.5768047130603362 and parameters: {'min_samples_leaf': 30}. Best is trial 13 with value: 1.5768047130603362.\n",
      "[I 2025-01-23 11:08:42,365] Trial 44 finished with value: 1.640835150494831 and parameters: {'min_samples_leaf': 33}. Best is trial 13 with value: 1.5768047130603362.\n",
      "[I 2025-01-23 11:10:09,000] Trial 45 finished with value: 1.7286350002055513 and parameters: {'min_samples_leaf': 37}. Best is trial 13 with value: 1.5768047130603362.\n",
      "[I 2025-01-23 11:11:34,182] Trial 46 finished with value: 1.6185447995473985 and parameters: {'min_samples_leaf': 32}. Best is trial 13 with value: 1.5768047130603362.\n",
      "[I 2025-01-23 11:12:57,710] Trial 47 finished with value: 1.6885840148208662 and parameters: {'min_samples_leaf': 35}. Best is trial 13 with value: 1.5768047130603362.\n",
      "[I 2025-01-23 11:14:24,153] Trial 48 finished with value: 1.5768047130603362 and parameters: {'min_samples_leaf': 30}. Best is trial 13 with value: 1.5768047130603362.\n",
      "[I 2025-01-23 11:15:53,266] Trial 49 finished with value: 1.6185447995473985 and parameters: {'min_samples_leaf': 32}. Best is trial 13 with value: 1.5768047130603362.\n",
      "[I 2025-01-23 11:17:16,210] Trial 50 finished with value: 1.6633372182314807 and parameters: {'min_samples_leaf': 34}. Best is trial 13 with value: 1.5768047130603362.\n",
      "[I 2025-01-23 11:18:41,467] Trial 51 finished with value: 1.594161356770465 and parameters: {'min_samples_leaf': 31}. Best is trial 13 with value: 1.5768047130603362.\n",
      "[I 2025-01-23 11:20:07,345] Trial 52 finished with value: 1.594161356770465 and parameters: {'min_samples_leaf': 31}. Best is trial 13 with value: 1.5768047130603362.\n",
      "[I 2025-01-23 11:21:31,945] Trial 53 finished with value: 1.5768047130603362 and parameters: {'min_samples_leaf': 30}. Best is trial 13 with value: 1.5768047130603362.\n",
      "[I 2025-01-23 11:22:52,239] Trial 54 finished with value: 1.7088538879886788 and parameters: {'min_samples_leaf': 36}. Best is trial 13 with value: 1.5768047130603362.\n",
      "[I 2025-01-23 11:24:02,541] Trial 55 finished with value: 2.014095795870115 and parameters: {'min_samples_leaf': 59}. Best is trial 13 with value: 1.5768047130603362.\n",
      "[I 2025-01-23 11:25:19,098] Trial 56 finished with value: 1.6185447995473985 and parameters: {'min_samples_leaf': 32}. Best is trial 13 with value: 1.5768047130603362.\n",
      "[I 2025-01-23 11:26:36,514] Trial 57 finished with value: 1.6633372182314807 and parameters: {'min_samples_leaf': 34}. Best is trial 13 with value: 1.5768047130603362.\n",
      "[I 2025-01-23 11:27:50,830] Trial 58 finished with value: 1.935098168429447 and parameters: {'min_samples_leaf': 52}. Best is trial 13 with value: 1.5768047130603362.\n",
      "[I 2025-01-23 11:29:07,340] Trial 59 finished with value: 1.7463302572888282 and parameters: {'min_samples_leaf': 38}. Best is trial 13 with value: 1.5768047130603362.\n",
      "[I 2025-01-23 11:30:26,678] Trial 60 finished with value: 1.5768047130603362 and parameters: {'min_samples_leaf': 30}. Best is trial 13 with value: 1.5768047130603362.\n",
      "[I 2025-01-23 11:31:44,591] Trial 61 finished with value: 1.5768047130603362 and parameters: {'min_samples_leaf': 30}. Best is trial 13 with value: 1.5768047130603362.\n",
      "[I 2025-01-23 11:33:04,927] Trial 62 finished with value: 1.594161356770465 and parameters: {'min_samples_leaf': 31}. Best is trial 13 with value: 1.5768047130603362.\n",
      "[I 2025-01-23 11:34:26,275] Trial 63 finished with value: 1.640835150494831 and parameters: {'min_samples_leaf': 33}. Best is trial 13 with value: 1.5768047130603362.\n",
      "[I 2025-01-23 11:35:46,288] Trial 64 finished with value: 1.6885840148208662 and parameters: {'min_samples_leaf': 35}. Best is trial 13 with value: 1.5768047130603362.\n",
      "[I 2025-01-23 11:37:08,821] Trial 65 finished with value: 1.6185447995473985 and parameters: {'min_samples_leaf': 32}. Best is trial 13 with value: 1.5768047130603362.\n",
      "[I 2025-01-23 11:38:32,237] Trial 66 finished with value: 1.5768047130603362 and parameters: {'min_samples_leaf': 30}. Best is trial 13 with value: 1.5768047130603362.\n",
      "[I 2025-01-23 11:39:53,577] Trial 67 finished with value: 1.640835150494831 and parameters: {'min_samples_leaf': 33}. Best is trial 13 with value: 1.5768047130603362.\n",
      "[I 2025-01-23 11:41:13,819] Trial 68 finished with value: 1.594161356770465 and parameters: {'min_samples_leaf': 31}. Best is trial 13 with value: 1.5768047130603362.\n",
      "[I 2025-01-23 11:42:28,071] Trial 69 finished with value: 2.0327720788438146 and parameters: {'min_samples_leaf': 63}. Best is trial 13 with value: 1.5768047130603362.\n",
      "[I 2025-01-23 11:43:53,302] Trial 70 finished with value: 1.6633372182314807 and parameters: {'min_samples_leaf': 34}. Best is trial 13 with value: 1.5768047130603362.\n",
      "[I 2025-01-23 11:45:14,816] Trial 71 finished with value: 1.5768047130603362 and parameters: {'min_samples_leaf': 30}. Best is trial 13 with value: 1.5768047130603362.\n",
      "[I 2025-01-23 11:46:40,041] Trial 72 finished with value: 1.594161356770465 and parameters: {'min_samples_leaf': 31}. Best is trial 13 with value: 1.5768047130603362.\n",
      "[I 2025-01-23 11:48:02,946] Trial 73 finished with value: 1.6185447995473985 and parameters: {'min_samples_leaf': 32}. Best is trial 13 with value: 1.5768047130603362.\n",
      "[I 2025-01-23 11:49:24,821] Trial 74 finished with value: 1.5768047130603362 and parameters: {'min_samples_leaf': 30}. Best is trial 13 with value: 1.5768047130603362.\n",
      "[I 2025-01-23 11:50:48,920] Trial 75 finished with value: 1.640835150494831 and parameters: {'min_samples_leaf': 33}. Best is trial 13 with value: 1.5768047130603362.\n",
      "[I 2025-01-23 11:52:05,697] Trial 76 finished with value: 1.8454679780466923 and parameters: {'min_samples_leaf': 47}. Best is trial 13 with value: 1.5768047130603362.\n",
      "[I 2025-01-23 11:53:27,142] Trial 77 finished with value: 1.6185447995473985 and parameters: {'min_samples_leaf': 32}. Best is trial 13 with value: 1.5768047130603362.\n",
      "[I 2025-01-23 11:54:48,619] Trial 78 finished with value: 1.804072331311776 and parameters: {'min_samples_leaf': 43}. Best is trial 13 with value: 1.5768047130603362.\n",
      "[I 2025-01-23 11:56:17,031] Trial 79 finished with value: 1.594161356770465 and parameters: {'min_samples_leaf': 31}. Best is trial 13 with value: 1.5768047130603362.\n",
      "[I 2025-01-23 11:57:42,017] Trial 80 finished with value: 1.6885840148208662 and parameters: {'min_samples_leaf': 35}. Best is trial 13 with value: 1.5768047130603362.\n",
      "[I 2025-01-23 11:59:06,446] Trial 81 finished with value: 1.5768047130603362 and parameters: {'min_samples_leaf': 30}. Best is trial 13 with value: 1.5768047130603362.\n",
      "[I 2025-01-23 12:00:36,804] Trial 82 finished with value: 1.5768047130603362 and parameters: {'min_samples_leaf': 30}. Best is trial 13 with value: 1.5768047130603362.\n",
      "[I 2025-01-23 12:01:55,377] Trial 83 finished with value: 1.594161356770465 and parameters: {'min_samples_leaf': 31}. Best is trial 13 with value: 1.5768047130603362.\n",
      "[I 2025-01-23 12:03:11,435] Trial 84 finished with value: 1.6633372182314807 and parameters: {'min_samples_leaf': 34}. Best is trial 13 with value: 1.5768047130603362.\n",
      "[I 2025-01-23 12:04:29,715] Trial 85 finished with value: 1.594161356770465 and parameters: {'min_samples_leaf': 31}. Best is trial 13 with value: 1.5768047130603362.\n",
      "[I 2025-01-23 12:05:43,760] Trial 86 finished with value: 1.640835150494831 and parameters: {'min_samples_leaf': 33}. Best is trial 13 with value: 1.5768047130603362.\n",
      "[I 2025-01-23 12:07:00,747] Trial 87 finished with value: 1.6185447995473985 and parameters: {'min_samples_leaf': 32}. Best is trial 13 with value: 1.5768047130603362.\n",
      "[I 2025-01-23 12:08:16,677] Trial 88 finished with value: 1.5768047130603362 and parameters: {'min_samples_leaf': 30}. Best is trial 13 with value: 1.5768047130603362.\n",
      "[I 2025-01-23 12:09:23,769] Trial 89 finished with value: 1.987869556132574 and parameters: {'min_samples_leaf': 56}. Best is trial 13 with value: 1.5768047130603362.\n",
      "[I 2025-01-23 12:10:42,935] Trial 90 finished with value: 1.594161356770465 and parameters: {'min_samples_leaf': 31}. Best is trial 13 with value: 1.5768047130603362.\n",
      "[I 2025-01-23 12:12:00,307] Trial 91 finished with value: 1.5768047130603362 and parameters: {'min_samples_leaf': 30}. Best is trial 13 with value: 1.5768047130603362.\n",
      "[I 2025-01-23 12:13:15,915] Trial 92 finished with value: 1.6185447995473985 and parameters: {'min_samples_leaf': 32}. Best is trial 13 with value: 1.5768047130603362.\n",
      "[I 2025-01-23 12:14:30,454] Trial 93 finished with value: 1.5768047130603362 and parameters: {'min_samples_leaf': 30}. Best is trial 13 with value: 1.5768047130603362.\n",
      "[I 2025-01-23 12:15:44,966] Trial 94 finished with value: 1.640835150494831 and parameters: {'min_samples_leaf': 33}. Best is trial 13 with value: 1.5768047130603362.\n",
      "[I 2025-01-23 12:17:00,816] Trial 95 finished with value: 1.6185447995473985 and parameters: {'min_samples_leaf': 32}. Best is trial 13 with value: 1.5768047130603362.\n",
      "[I 2025-01-23 12:18:16,573] Trial 96 finished with value: 1.5768047130603362 and parameters: {'min_samples_leaf': 30}. Best is trial 13 with value: 1.5768047130603362.\n",
      "[I 2025-01-23 12:19:30,466] Trial 97 finished with value: 1.7088538879886788 and parameters: {'min_samples_leaf': 36}. Best is trial 13 with value: 1.5768047130603362.\n",
      "[I 2025-01-23 12:20:13,596] Trial 98 finished with value: 1.594161356770465 and parameters: {'min_samples_leaf': 31}. Best is trial 13 with value: 1.5768047130603362.\n",
      "[I 2025-01-23 12:20:50,273] Trial 99 finished with value: 1.6633372182314807 and parameters: {'min_samples_leaf': 34}. Best is trial 13 with value: 1.5768047130603362.\n"
     ]
    },
    {
     "data": {
      "text/plain": [
       "{'min_samples_leaf': 30}"
      ]
     },
     "execution_count": 83,
     "metadata": {},
     "output_type": "execute_result"
    }
   ],
   "source": [
    "def rf_objective(trial):\n",
    "    # Define parameter search space\n",
    "    params = {\n",
    "        # \"n_estimators\": trial.suggest_int(\"n_estimators\", 10, 1000, step=10),\n",
    "        \"max_depth\": 10, # trial.suggest_int(\"max_depth\", 2, 16),\n",
    "        \"min_samples_split\": 35, # trial.suggest_int(\"min_samples_split\", 30, 64),\n",
    "        \"min_samples_leaf\": 35 # trial.suggest_int(\"min_samples_leaf\", 30, 64),\n",
    "    }\n",
    "\n",
    "    rmse, _, _ = trainer(params)\n",
    "\n",
    "    return rmse\n",
    "\n",
    "rf_study = optuna.create_study(direction=\"minimize\")\n",
    "rf_study.optimize(rf_objective, n_trials=100)\n",
    "rf_study.best_params"
   ]
  },
  {
   "cell_type": "code",
   "execution_count": null,
   "metadata": {},
   "outputs": [
    {
     "data": {
      "application/vnd.plotly.v1+json": {
       "config": {
        "plotlyServerURL": "https://plot.ly"
       },
       "data": [
        {
         "cliponaxis": false,
         "hovertemplate": [
          "min_samples_split (IntDistribution): 0.0012959263018499378<extra></extra>",
          "max_depth (IntDistribution): 0.003124905884732687<extra></extra>",
          "n_estimators (IntDistribution): 0.0035064514882560773<extra></extra>",
          "min_samples_leaf (IntDistribution): 0.9920727163251613<extra></extra>"
         ],
         "name": "Objective Value",
         "orientation": "h",
         "text": [
          "<0.01",
          "<0.01",
          "<0.01",
          "0.99"
         ],
         "textposition": "outside",
         "type": "bar",
         "x": [
          0.0012959263018499378,
          0.003124905884732687,
          0.0035064514882560773,
          0.9920727163251613
         ],
         "y": [
          "min_samples_split",
          "max_depth",
          "n_estimators",
          "min_samples_leaf"
         ]
        }
       ],
       "layout": {
        "template": {
         "data": {
          "bar": [
           {
            "error_x": {
             "color": "#2a3f5f"
            },
            "error_y": {
             "color": "#2a3f5f"
            },
            "marker": {
             "line": {
              "color": "#E5ECF6",
              "width": 0.5
             },
             "pattern": {
              "fillmode": "overlay",
              "size": 10,
              "solidity": 0.2
             }
            },
            "type": "bar"
           }
          ],
          "barpolar": [
           {
            "marker": {
             "line": {
              "color": "#E5ECF6",
              "width": 0.5
             },
             "pattern": {
              "fillmode": "overlay",
              "size": 10,
              "solidity": 0.2
             }
            },
            "type": "barpolar"
           }
          ],
          "carpet": [
           {
            "aaxis": {
             "endlinecolor": "#2a3f5f",
             "gridcolor": "white",
             "linecolor": "white",
             "minorgridcolor": "white",
             "startlinecolor": "#2a3f5f"
            },
            "baxis": {
             "endlinecolor": "#2a3f5f",
             "gridcolor": "white",
             "linecolor": "white",
             "minorgridcolor": "white",
             "startlinecolor": "#2a3f5f"
            },
            "type": "carpet"
           }
          ],
          "choropleth": [
           {
            "colorbar": {
             "outlinewidth": 0,
             "ticks": ""
            },
            "type": "choropleth"
           }
          ],
          "contour": [
           {
            "colorbar": {
             "outlinewidth": 0,
             "ticks": ""
            },
            "colorscale": [
             [
              0,
              "#0d0887"
             ],
             [
              0.1111111111111111,
              "#46039f"
             ],
             [
              0.2222222222222222,
              "#7201a8"
             ],
             [
              0.3333333333333333,
              "#9c179e"
             ],
             [
              0.4444444444444444,
              "#bd3786"
             ],
             [
              0.5555555555555556,
              "#d8576b"
             ],
             [
              0.6666666666666666,
              "#ed7953"
             ],
             [
              0.7777777777777778,
              "#fb9f3a"
             ],
             [
              0.8888888888888888,
              "#fdca26"
             ],
             [
              1,
              "#f0f921"
             ]
            ],
            "type": "contour"
           }
          ],
          "contourcarpet": [
           {
            "colorbar": {
             "outlinewidth": 0,
             "ticks": ""
            },
            "type": "contourcarpet"
           }
          ],
          "heatmap": [
           {
            "colorbar": {
             "outlinewidth": 0,
             "ticks": ""
            },
            "colorscale": [
             [
              0,
              "#0d0887"
             ],
             [
              0.1111111111111111,
              "#46039f"
             ],
             [
              0.2222222222222222,
              "#7201a8"
             ],
             [
              0.3333333333333333,
              "#9c179e"
             ],
             [
              0.4444444444444444,
              "#bd3786"
             ],
             [
              0.5555555555555556,
              "#d8576b"
             ],
             [
              0.6666666666666666,
              "#ed7953"
             ],
             [
              0.7777777777777778,
              "#fb9f3a"
             ],
             [
              0.8888888888888888,
              "#fdca26"
             ],
             [
              1,
              "#f0f921"
             ]
            ],
            "type": "heatmap"
           }
          ],
          "heatmapgl": [
           {
            "colorbar": {
             "outlinewidth": 0,
             "ticks": ""
            },
            "colorscale": [
             [
              0,
              "#0d0887"
             ],
             [
              0.1111111111111111,
              "#46039f"
             ],
             [
              0.2222222222222222,
              "#7201a8"
             ],
             [
              0.3333333333333333,
              "#9c179e"
             ],
             [
              0.4444444444444444,
              "#bd3786"
             ],
             [
              0.5555555555555556,
              "#d8576b"
             ],
             [
              0.6666666666666666,
              "#ed7953"
             ],
             [
              0.7777777777777778,
              "#fb9f3a"
             ],
             [
              0.8888888888888888,
              "#fdca26"
             ],
             [
              1,
              "#f0f921"
             ]
            ],
            "type": "heatmapgl"
           }
          ],
          "histogram": [
           {
            "marker": {
             "pattern": {
              "fillmode": "overlay",
              "size": 10,
              "solidity": 0.2
             }
            },
            "type": "histogram"
           }
          ],
          "histogram2d": [
           {
            "colorbar": {
             "outlinewidth": 0,
             "ticks": ""
            },
            "colorscale": [
             [
              0,
              "#0d0887"
             ],
             [
              0.1111111111111111,
              "#46039f"
             ],
             [
              0.2222222222222222,
              "#7201a8"
             ],
             [
              0.3333333333333333,
              "#9c179e"
             ],
             [
              0.4444444444444444,
              "#bd3786"
             ],
             [
              0.5555555555555556,
              "#d8576b"
             ],
             [
              0.6666666666666666,
              "#ed7953"
             ],
             [
              0.7777777777777778,
              "#fb9f3a"
             ],
             [
              0.8888888888888888,
              "#fdca26"
             ],
             [
              1,
              "#f0f921"
             ]
            ],
            "type": "histogram2d"
           }
          ],
          "histogram2dcontour": [
           {
            "colorbar": {
             "outlinewidth": 0,
             "ticks": ""
            },
            "colorscale": [
             [
              0,
              "#0d0887"
             ],
             [
              0.1111111111111111,
              "#46039f"
             ],
             [
              0.2222222222222222,
              "#7201a8"
             ],
             [
              0.3333333333333333,
              "#9c179e"
             ],
             [
              0.4444444444444444,
              "#bd3786"
             ],
             [
              0.5555555555555556,
              "#d8576b"
             ],
             [
              0.6666666666666666,
              "#ed7953"
             ],
             [
              0.7777777777777778,
              "#fb9f3a"
             ],
             [
              0.8888888888888888,
              "#fdca26"
             ],
             [
              1,
              "#f0f921"
             ]
            ],
            "type": "histogram2dcontour"
           }
          ],
          "mesh3d": [
           {
            "colorbar": {
             "outlinewidth": 0,
             "ticks": ""
            },
            "type": "mesh3d"
           }
          ],
          "parcoords": [
           {
            "line": {
             "colorbar": {
              "outlinewidth": 0,
              "ticks": ""
             }
            },
            "type": "parcoords"
           }
          ],
          "pie": [
           {
            "automargin": true,
            "type": "pie"
           }
          ],
          "scatter": [
           {
            "fillpattern": {
             "fillmode": "overlay",
             "size": 10,
             "solidity": 0.2
            },
            "type": "scatter"
           }
          ],
          "scatter3d": [
           {
            "line": {
             "colorbar": {
              "outlinewidth": 0,
              "ticks": ""
             }
            },
            "marker": {
             "colorbar": {
              "outlinewidth": 0,
              "ticks": ""
             }
            },
            "type": "scatter3d"
           }
          ],
          "scattercarpet": [
           {
            "marker": {
             "colorbar": {
              "outlinewidth": 0,
              "ticks": ""
             }
            },
            "type": "scattercarpet"
           }
          ],
          "scattergeo": [
           {
            "marker": {
             "colorbar": {
              "outlinewidth": 0,
              "ticks": ""
             }
            },
            "type": "scattergeo"
           }
          ],
          "scattergl": [
           {
            "marker": {
             "colorbar": {
              "outlinewidth": 0,
              "ticks": ""
             }
            },
            "type": "scattergl"
           }
          ],
          "scattermapbox": [
           {
            "marker": {
             "colorbar": {
              "outlinewidth": 0,
              "ticks": ""
             }
            },
            "type": "scattermapbox"
           }
          ],
          "scatterpolar": [
           {
            "marker": {
             "colorbar": {
              "outlinewidth": 0,
              "ticks": ""
             }
            },
            "type": "scatterpolar"
           }
          ],
          "scatterpolargl": [
           {
            "marker": {
             "colorbar": {
              "outlinewidth": 0,
              "ticks": ""
             }
            },
            "type": "scatterpolargl"
           }
          ],
          "scatterternary": [
           {
            "marker": {
             "colorbar": {
              "outlinewidth": 0,
              "ticks": ""
             }
            },
            "type": "scatterternary"
           }
          ],
          "surface": [
           {
            "colorbar": {
             "outlinewidth": 0,
             "ticks": ""
            },
            "colorscale": [
             [
              0,
              "#0d0887"
             ],
             [
              0.1111111111111111,
              "#46039f"
             ],
             [
              0.2222222222222222,
              "#7201a8"
             ],
             [
              0.3333333333333333,
              "#9c179e"
             ],
             [
              0.4444444444444444,
              "#bd3786"
             ],
             [
              0.5555555555555556,
              "#d8576b"
             ],
             [
              0.6666666666666666,
              "#ed7953"
             ],
             [
              0.7777777777777778,
              "#fb9f3a"
             ],
             [
              0.8888888888888888,
              "#fdca26"
             ],
             [
              1,
              "#f0f921"
             ]
            ],
            "type": "surface"
           }
          ],
          "table": [
           {
            "cells": {
             "fill": {
              "color": "#EBF0F8"
             },
             "line": {
              "color": "white"
             }
            },
            "header": {
             "fill": {
              "color": "#C8D4E3"
             },
             "line": {
              "color": "white"
             }
            },
            "type": "table"
           }
          ]
         },
         "layout": {
          "annotationdefaults": {
           "arrowcolor": "#2a3f5f",
           "arrowhead": 0,
           "arrowwidth": 1
          },
          "autotypenumbers": "strict",
          "coloraxis": {
           "colorbar": {
            "outlinewidth": 0,
            "ticks": ""
           }
          },
          "colorscale": {
           "diverging": [
            [
             0,
             "#8e0152"
            ],
            [
             0.1,
             "#c51b7d"
            ],
            [
             0.2,
             "#de77ae"
            ],
            [
             0.3,
             "#f1b6da"
            ],
            [
             0.4,
             "#fde0ef"
            ],
            [
             0.5,
             "#f7f7f7"
            ],
            [
             0.6,
             "#e6f5d0"
            ],
            [
             0.7,
             "#b8e186"
            ],
            [
             0.8,
             "#7fbc41"
            ],
            [
             0.9,
             "#4d9221"
            ],
            [
             1,
             "#276419"
            ]
           ],
           "sequential": [
            [
             0,
             "#0d0887"
            ],
            [
             0.1111111111111111,
             "#46039f"
            ],
            [
             0.2222222222222222,
             "#7201a8"
            ],
            [
             0.3333333333333333,
             "#9c179e"
            ],
            [
             0.4444444444444444,
             "#bd3786"
            ],
            [
             0.5555555555555556,
             "#d8576b"
            ],
            [
             0.6666666666666666,
             "#ed7953"
            ],
            [
             0.7777777777777778,
             "#fb9f3a"
            ],
            [
             0.8888888888888888,
             "#fdca26"
            ],
            [
             1,
             "#f0f921"
            ]
           ],
           "sequentialminus": [
            [
             0,
             "#0d0887"
            ],
            [
             0.1111111111111111,
             "#46039f"
            ],
            [
             0.2222222222222222,
             "#7201a8"
            ],
            [
             0.3333333333333333,
             "#9c179e"
            ],
            [
             0.4444444444444444,
             "#bd3786"
            ],
            [
             0.5555555555555556,
             "#d8576b"
            ],
            [
             0.6666666666666666,
             "#ed7953"
            ],
            [
             0.7777777777777778,
             "#fb9f3a"
            ],
            [
             0.8888888888888888,
             "#fdca26"
            ],
            [
             1,
             "#f0f921"
            ]
           ]
          },
          "colorway": [
           "#636efa",
           "#EF553B",
           "#00cc96",
           "#ab63fa",
           "#FFA15A",
           "#19d3f3",
           "#FF6692",
           "#B6E880",
           "#FF97FF",
           "#FECB52"
          ],
          "font": {
           "color": "#2a3f5f"
          },
          "geo": {
           "bgcolor": "white",
           "lakecolor": "white",
           "landcolor": "#E5ECF6",
           "showlakes": true,
           "showland": true,
           "subunitcolor": "white"
          },
          "hoverlabel": {
           "align": "left"
          },
          "hovermode": "closest",
          "mapbox": {
           "style": "light"
          },
          "paper_bgcolor": "white",
          "plot_bgcolor": "#E5ECF6",
          "polar": {
           "angularaxis": {
            "gridcolor": "white",
            "linecolor": "white",
            "ticks": ""
           },
           "bgcolor": "#E5ECF6",
           "radialaxis": {
            "gridcolor": "white",
            "linecolor": "white",
            "ticks": ""
           }
          },
          "scene": {
           "xaxis": {
            "backgroundcolor": "#E5ECF6",
            "gridcolor": "white",
            "gridwidth": 2,
            "linecolor": "white",
            "showbackground": true,
            "ticks": "",
            "zerolinecolor": "white"
           },
           "yaxis": {
            "backgroundcolor": "#E5ECF6",
            "gridcolor": "white",
            "gridwidth": 2,
            "linecolor": "white",
            "showbackground": true,
            "ticks": "",
            "zerolinecolor": "white"
           },
           "zaxis": {
            "backgroundcolor": "#E5ECF6",
            "gridcolor": "white",
            "gridwidth": 2,
            "linecolor": "white",
            "showbackground": true,
            "ticks": "",
            "zerolinecolor": "white"
           }
          },
          "shapedefaults": {
           "line": {
            "color": "#2a3f5f"
           }
          },
          "ternary": {
           "aaxis": {
            "gridcolor": "white",
            "linecolor": "white",
            "ticks": ""
           },
           "baxis": {
            "gridcolor": "white",
            "linecolor": "white",
            "ticks": ""
           },
           "bgcolor": "#E5ECF6",
           "caxis": {
            "gridcolor": "white",
            "linecolor": "white",
            "ticks": ""
           }
          },
          "title": {
           "x": 0.05
          },
          "xaxis": {
           "automargin": true,
           "gridcolor": "white",
           "linecolor": "white",
           "ticks": "",
           "title": {
            "standoff": 15
           },
           "zerolinecolor": "white",
           "zerolinewidth": 2
          },
          "yaxis": {
           "automargin": true,
           "gridcolor": "white",
           "linecolor": "white",
           "ticks": "",
           "title": {
            "standoff": 15
           },
           "zerolinecolor": "white",
           "zerolinewidth": 2
          }
         }
        },
        "title": {
         "text": "Hyperparameter Importances"
        },
        "xaxis": {
         "title": {
          "text": "Hyperparameter Importance"
         }
        },
        "yaxis": {
         "title": {
          "text": "Hyperparameter"
         }
        }
       }
      }
     },
     "metadata": {},
     "output_type": "display_data"
    }
   ],
   "source": [
    "optuna.visualization.plot_param_importances(rf_study)"
   ]
  },
  {
   "cell_type": "code",
   "execution_count": 62,
   "metadata": {},
   "outputs": [
    {
     "data": {
      "application/vnd.plotly.v1+json": {
       "config": {
        "plotlyServerURL": "https://plot.ly"
       },
       "data": [
        {
         "mode": "markers",
         "name": "Objective Value",
         "type": "scatter",
         "x": [
          0,
          1,
          2,
          3,
          4,
          5,
          6,
          7,
          8,
          9,
          10,
          11,
          12,
          13,
          14,
          15,
          16,
          17,
          18,
          19,
          20,
          21,
          22,
          23,
          24,
          25,
          26,
          27,
          28,
          29,
          30,
          31,
          32,
          33,
          34,
          35,
          36,
          37,
          38,
          39,
          40,
          41,
          42,
          43,
          44,
          45,
          46,
          47,
          48,
          49,
          50,
          51,
          52,
          53,
          54,
          55,
          56,
          57,
          58,
          59,
          60,
          61,
          62,
          63,
          64,
          65,
          66,
          67,
          68,
          69,
          70,
          71,
          72,
          73,
          74,
          75,
          76,
          77,
          78,
          79,
          80,
          81,
          82,
          83,
          84,
          85,
          86,
          87,
          88,
          89,
          90,
          91,
          92,
          93,
          94,
          95,
          96,
          97,
          98,
          99
         ],
         "y": [
          1.5587093109257644,
          1.950071194113096,
          1.8234406508768934,
          1.3673623827759527,
          1.950071194113096,
          1.4246984195097707,
          1.3455842194237169,
          1.3428131125858564,
          1.864056926407328,
          1.8240917129231744,
          1.3599539483971925,
          1.3454687507508902,
          1.3500346684473326,
          1.3377788888437823,
          1.4993214260913084,
          1.3435422871320097,
          1.4180547917613946,
          1.33997454207207,
          1.6270484225947883,
          1.3996536958147945,
          1.3441029633817807,
          1.3394208097395361,
          1.3657289131691621,
          1.3378034486981751,
          1.3433080827280945,
          1.366392241184626,
          1.452698010615724,
          1.3589982438746904,
          1.7126055923394268,
          1.501656440673789,
          1.3559548571290978,
          1.3378117727982466,
          1.3373377410522522,
          1.3423859332729444,
          1.3364903308644227,
          1.35128340264975,
          1.390332613047843,
          1.3815590872750705,
          1.3428175209874302,
          1.354498190666574,
          1.4638563445307105,
          1.3374467828239225,
          1.3363023451288634,
          1.3365474081416853,
          1.3374502271047357,
          1.3384967301883228,
          1.3395535301483588,
          1.9435946830443325,
          1.3367751789129485,
          1.3412219582508673,
          1.348909186698825,
          1.3451123033227206,
          1.3365688443403119,
          1.3358464328254693,
          1.342759651056467,
          1.3385883340258489,
          1.344746936661282,
          1.338653761926095,
          1.9791636153798127,
          1.3490290171232981,
          1.337452214043517,
          1.3395271246995506,
          1.3371345203359208,
          1.3370503530853501,
          1.3424274286064113,
          1.3460984782539969,
          1.337062145513333,
          1.6654070294332173,
          1.3563460325407528,
          1.3490494184264066,
          1.3365174738841494,
          1.3368660559876648,
          1.3365338610350386,
          1.337899875390478,
          1.3419373135361987,
          1.3379130589715609,
          1.3514296326267259,
          1.3366037774806585,
          1.3393545426464053,
          1.3418267253905496,
          1.782706220286747,
          1.3367032839788076,
          1.3361130443067144,
          1.338969984249132,
          1.338221286540941,
          1.3367908825795844,
          1.342093204760387,
          1.337425880395515,
          1.3394366062741283,
          1.337653575235485,
          1.3371321448772069,
          1.3369178384910303,
          1.3367535573788718,
          1.3385338807774652,
          1.3364092324131431,
          1.341153413299484,
          1.3363721326130817,
          1.3366646295691866,
          1.3419211751784748,
          1.3367520206247845
         ]
        },
        {
         "mode": "lines",
         "name": "Best Value",
         "type": "scatter",
         "x": [
          0,
          1,
          2,
          3,
          4,
          5,
          6,
          7,
          8,
          9,
          10,
          11,
          12,
          13,
          14,
          15,
          16,
          17,
          18,
          19,
          20,
          21,
          22,
          23,
          24,
          25,
          26,
          27,
          28,
          29,
          30,
          31,
          32,
          33,
          34,
          35,
          36,
          37,
          38,
          39,
          40,
          41,
          42,
          43,
          44,
          45,
          46,
          47,
          48,
          49,
          50,
          51,
          52,
          53,
          54,
          55,
          56,
          57,
          58,
          59,
          60,
          61,
          62,
          63,
          64,
          65,
          66,
          67,
          68,
          69,
          70,
          71,
          72,
          73,
          74,
          75,
          76,
          77,
          78,
          79,
          80,
          81,
          82,
          83,
          84,
          85,
          86,
          87,
          88,
          89,
          90,
          91,
          92,
          93,
          94,
          95,
          96,
          97,
          98,
          99
         ],
         "y": [
          1.5587093109257644,
          1.5587093109257644,
          1.5587093109257644,
          1.3673623827759527,
          1.3673623827759527,
          1.3673623827759527,
          1.3455842194237169,
          1.3428131125858564,
          1.3428131125858564,
          1.3428131125858564,
          1.3428131125858564,
          1.3428131125858564,
          1.3428131125858564,
          1.3377788888437823,
          1.3377788888437823,
          1.3377788888437823,
          1.3377788888437823,
          1.3377788888437823,
          1.3377788888437823,
          1.3377788888437823,
          1.3377788888437823,
          1.3377788888437823,
          1.3377788888437823,
          1.3377788888437823,
          1.3377788888437823,
          1.3377788888437823,
          1.3377788888437823,
          1.3377788888437823,
          1.3377788888437823,
          1.3377788888437823,
          1.3377788888437823,
          1.3377788888437823,
          1.3373377410522522,
          1.3373377410522522,
          1.3364903308644227,
          1.3364903308644227,
          1.3364903308644227,
          1.3364903308644227,
          1.3364903308644227,
          1.3364903308644227,
          1.3364903308644227,
          1.3364903308644227,
          1.3363023451288634,
          1.3363023451288634,
          1.3363023451288634,
          1.3363023451288634,
          1.3363023451288634,
          1.3363023451288634,
          1.3363023451288634,
          1.3363023451288634,
          1.3363023451288634,
          1.3363023451288634,
          1.3363023451288634,
          1.3358464328254693,
          1.3358464328254693,
          1.3358464328254693,
          1.3358464328254693,
          1.3358464328254693,
          1.3358464328254693,
          1.3358464328254693,
          1.3358464328254693,
          1.3358464328254693,
          1.3358464328254693,
          1.3358464328254693,
          1.3358464328254693,
          1.3358464328254693,
          1.3358464328254693,
          1.3358464328254693,
          1.3358464328254693,
          1.3358464328254693,
          1.3358464328254693,
          1.3358464328254693,
          1.3358464328254693,
          1.3358464328254693,
          1.3358464328254693,
          1.3358464328254693,
          1.3358464328254693,
          1.3358464328254693,
          1.3358464328254693,
          1.3358464328254693,
          1.3358464328254693,
          1.3358464328254693,
          1.3358464328254693,
          1.3358464328254693,
          1.3358464328254693,
          1.3358464328254693,
          1.3358464328254693,
          1.3358464328254693,
          1.3358464328254693,
          1.3358464328254693,
          1.3358464328254693,
          1.3358464328254693,
          1.3358464328254693,
          1.3358464328254693,
          1.3358464328254693,
          1.3358464328254693,
          1.3358464328254693,
          1.3358464328254693,
          1.3358464328254693,
          1.3358464328254693
         ]
        },
        {
         "marker": {
          "color": "#cccccc"
         },
         "mode": "markers",
         "name": "Infeasible Trial",
         "showlegend": false,
         "type": "scatter",
         "x": [],
         "y": []
        }
       ],
       "layout": {
        "template": {
         "data": {
          "bar": [
           {
            "error_x": {
             "color": "#2a3f5f"
            },
            "error_y": {
             "color": "#2a3f5f"
            },
            "marker": {
             "line": {
              "color": "#E5ECF6",
              "width": 0.5
             },
             "pattern": {
              "fillmode": "overlay",
              "size": 10,
              "solidity": 0.2
             }
            },
            "type": "bar"
           }
          ],
          "barpolar": [
           {
            "marker": {
             "line": {
              "color": "#E5ECF6",
              "width": 0.5
             },
             "pattern": {
              "fillmode": "overlay",
              "size": 10,
              "solidity": 0.2
             }
            },
            "type": "barpolar"
           }
          ],
          "carpet": [
           {
            "aaxis": {
             "endlinecolor": "#2a3f5f",
             "gridcolor": "white",
             "linecolor": "white",
             "minorgridcolor": "white",
             "startlinecolor": "#2a3f5f"
            },
            "baxis": {
             "endlinecolor": "#2a3f5f",
             "gridcolor": "white",
             "linecolor": "white",
             "minorgridcolor": "white",
             "startlinecolor": "#2a3f5f"
            },
            "type": "carpet"
           }
          ],
          "choropleth": [
           {
            "colorbar": {
             "outlinewidth": 0,
             "ticks": ""
            },
            "type": "choropleth"
           }
          ],
          "contour": [
           {
            "colorbar": {
             "outlinewidth": 0,
             "ticks": ""
            },
            "colorscale": [
             [
              0,
              "#0d0887"
             ],
             [
              0.1111111111111111,
              "#46039f"
             ],
             [
              0.2222222222222222,
              "#7201a8"
             ],
             [
              0.3333333333333333,
              "#9c179e"
             ],
             [
              0.4444444444444444,
              "#bd3786"
             ],
             [
              0.5555555555555556,
              "#d8576b"
             ],
             [
              0.6666666666666666,
              "#ed7953"
             ],
             [
              0.7777777777777778,
              "#fb9f3a"
             ],
             [
              0.8888888888888888,
              "#fdca26"
             ],
             [
              1,
              "#f0f921"
             ]
            ],
            "type": "contour"
           }
          ],
          "contourcarpet": [
           {
            "colorbar": {
             "outlinewidth": 0,
             "ticks": ""
            },
            "type": "contourcarpet"
           }
          ],
          "heatmap": [
           {
            "colorbar": {
             "outlinewidth": 0,
             "ticks": ""
            },
            "colorscale": [
             [
              0,
              "#0d0887"
             ],
             [
              0.1111111111111111,
              "#46039f"
             ],
             [
              0.2222222222222222,
              "#7201a8"
             ],
             [
              0.3333333333333333,
              "#9c179e"
             ],
             [
              0.4444444444444444,
              "#bd3786"
             ],
             [
              0.5555555555555556,
              "#d8576b"
             ],
             [
              0.6666666666666666,
              "#ed7953"
             ],
             [
              0.7777777777777778,
              "#fb9f3a"
             ],
             [
              0.8888888888888888,
              "#fdca26"
             ],
             [
              1,
              "#f0f921"
             ]
            ],
            "type": "heatmap"
           }
          ],
          "heatmapgl": [
           {
            "colorbar": {
             "outlinewidth": 0,
             "ticks": ""
            },
            "colorscale": [
             [
              0,
              "#0d0887"
             ],
             [
              0.1111111111111111,
              "#46039f"
             ],
             [
              0.2222222222222222,
              "#7201a8"
             ],
             [
              0.3333333333333333,
              "#9c179e"
             ],
             [
              0.4444444444444444,
              "#bd3786"
             ],
             [
              0.5555555555555556,
              "#d8576b"
             ],
             [
              0.6666666666666666,
              "#ed7953"
             ],
             [
              0.7777777777777778,
              "#fb9f3a"
             ],
             [
              0.8888888888888888,
              "#fdca26"
             ],
             [
              1,
              "#f0f921"
             ]
            ],
            "type": "heatmapgl"
           }
          ],
          "histogram": [
           {
            "marker": {
             "pattern": {
              "fillmode": "overlay",
              "size": 10,
              "solidity": 0.2
             }
            },
            "type": "histogram"
           }
          ],
          "histogram2d": [
           {
            "colorbar": {
             "outlinewidth": 0,
             "ticks": ""
            },
            "colorscale": [
             [
              0,
              "#0d0887"
             ],
             [
              0.1111111111111111,
              "#46039f"
             ],
             [
              0.2222222222222222,
              "#7201a8"
             ],
             [
              0.3333333333333333,
              "#9c179e"
             ],
             [
              0.4444444444444444,
              "#bd3786"
             ],
             [
              0.5555555555555556,
              "#d8576b"
             ],
             [
              0.6666666666666666,
              "#ed7953"
             ],
             [
              0.7777777777777778,
              "#fb9f3a"
             ],
             [
              0.8888888888888888,
              "#fdca26"
             ],
             [
              1,
              "#f0f921"
             ]
            ],
            "type": "histogram2d"
           }
          ],
          "histogram2dcontour": [
           {
            "colorbar": {
             "outlinewidth": 0,
             "ticks": ""
            },
            "colorscale": [
             [
              0,
              "#0d0887"
             ],
             [
              0.1111111111111111,
              "#46039f"
             ],
             [
              0.2222222222222222,
              "#7201a8"
             ],
             [
              0.3333333333333333,
              "#9c179e"
             ],
             [
              0.4444444444444444,
              "#bd3786"
             ],
             [
              0.5555555555555556,
              "#d8576b"
             ],
             [
              0.6666666666666666,
              "#ed7953"
             ],
             [
              0.7777777777777778,
              "#fb9f3a"
             ],
             [
              0.8888888888888888,
              "#fdca26"
             ],
             [
              1,
              "#f0f921"
             ]
            ],
            "type": "histogram2dcontour"
           }
          ],
          "mesh3d": [
           {
            "colorbar": {
             "outlinewidth": 0,
             "ticks": ""
            },
            "type": "mesh3d"
           }
          ],
          "parcoords": [
           {
            "line": {
             "colorbar": {
              "outlinewidth": 0,
              "ticks": ""
             }
            },
            "type": "parcoords"
           }
          ],
          "pie": [
           {
            "automargin": true,
            "type": "pie"
           }
          ],
          "scatter": [
           {
            "fillpattern": {
             "fillmode": "overlay",
             "size": 10,
             "solidity": 0.2
            },
            "type": "scatter"
           }
          ],
          "scatter3d": [
           {
            "line": {
             "colorbar": {
              "outlinewidth": 0,
              "ticks": ""
             }
            },
            "marker": {
             "colorbar": {
              "outlinewidth": 0,
              "ticks": ""
             }
            },
            "type": "scatter3d"
           }
          ],
          "scattercarpet": [
           {
            "marker": {
             "colorbar": {
              "outlinewidth": 0,
              "ticks": ""
             }
            },
            "type": "scattercarpet"
           }
          ],
          "scattergeo": [
           {
            "marker": {
             "colorbar": {
              "outlinewidth": 0,
              "ticks": ""
             }
            },
            "type": "scattergeo"
           }
          ],
          "scattergl": [
           {
            "marker": {
             "colorbar": {
              "outlinewidth": 0,
              "ticks": ""
             }
            },
            "type": "scattergl"
           }
          ],
          "scattermapbox": [
           {
            "marker": {
             "colorbar": {
              "outlinewidth": 0,
              "ticks": ""
             }
            },
            "type": "scattermapbox"
           }
          ],
          "scatterpolar": [
           {
            "marker": {
             "colorbar": {
              "outlinewidth": 0,
              "ticks": ""
             }
            },
            "type": "scatterpolar"
           }
          ],
          "scatterpolargl": [
           {
            "marker": {
             "colorbar": {
              "outlinewidth": 0,
              "ticks": ""
             }
            },
            "type": "scatterpolargl"
           }
          ],
          "scatterternary": [
           {
            "marker": {
             "colorbar": {
              "outlinewidth": 0,
              "ticks": ""
             }
            },
            "type": "scatterternary"
           }
          ],
          "surface": [
           {
            "colorbar": {
             "outlinewidth": 0,
             "ticks": ""
            },
            "colorscale": [
             [
              0,
              "#0d0887"
             ],
             [
              0.1111111111111111,
              "#46039f"
             ],
             [
              0.2222222222222222,
              "#7201a8"
             ],
             [
              0.3333333333333333,
              "#9c179e"
             ],
             [
              0.4444444444444444,
              "#bd3786"
             ],
             [
              0.5555555555555556,
              "#d8576b"
             ],
             [
              0.6666666666666666,
              "#ed7953"
             ],
             [
              0.7777777777777778,
              "#fb9f3a"
             ],
             [
              0.8888888888888888,
              "#fdca26"
             ],
             [
              1,
              "#f0f921"
             ]
            ],
            "type": "surface"
           }
          ],
          "table": [
           {
            "cells": {
             "fill": {
              "color": "#EBF0F8"
             },
             "line": {
              "color": "white"
             }
            },
            "header": {
             "fill": {
              "color": "#C8D4E3"
             },
             "line": {
              "color": "white"
             }
            },
            "type": "table"
           }
          ]
         },
         "layout": {
          "annotationdefaults": {
           "arrowcolor": "#2a3f5f",
           "arrowhead": 0,
           "arrowwidth": 1
          },
          "autotypenumbers": "strict",
          "coloraxis": {
           "colorbar": {
            "outlinewidth": 0,
            "ticks": ""
           }
          },
          "colorscale": {
           "diverging": [
            [
             0,
             "#8e0152"
            ],
            [
             0.1,
             "#c51b7d"
            ],
            [
             0.2,
             "#de77ae"
            ],
            [
             0.3,
             "#f1b6da"
            ],
            [
             0.4,
             "#fde0ef"
            ],
            [
             0.5,
             "#f7f7f7"
            ],
            [
             0.6,
             "#e6f5d0"
            ],
            [
             0.7,
             "#b8e186"
            ],
            [
             0.8,
             "#7fbc41"
            ],
            [
             0.9,
             "#4d9221"
            ],
            [
             1,
             "#276419"
            ]
           ],
           "sequential": [
            [
             0,
             "#0d0887"
            ],
            [
             0.1111111111111111,
             "#46039f"
            ],
            [
             0.2222222222222222,
             "#7201a8"
            ],
            [
             0.3333333333333333,
             "#9c179e"
            ],
            [
             0.4444444444444444,
             "#bd3786"
            ],
            [
             0.5555555555555556,
             "#d8576b"
            ],
            [
             0.6666666666666666,
             "#ed7953"
            ],
            [
             0.7777777777777778,
             "#fb9f3a"
            ],
            [
             0.8888888888888888,
             "#fdca26"
            ],
            [
             1,
             "#f0f921"
            ]
           ],
           "sequentialminus": [
            [
             0,
             "#0d0887"
            ],
            [
             0.1111111111111111,
             "#46039f"
            ],
            [
             0.2222222222222222,
             "#7201a8"
            ],
            [
             0.3333333333333333,
             "#9c179e"
            ],
            [
             0.4444444444444444,
             "#bd3786"
            ],
            [
             0.5555555555555556,
             "#d8576b"
            ],
            [
             0.6666666666666666,
             "#ed7953"
            ],
            [
             0.7777777777777778,
             "#fb9f3a"
            ],
            [
             0.8888888888888888,
             "#fdca26"
            ],
            [
             1,
             "#f0f921"
            ]
           ]
          },
          "colorway": [
           "#636efa",
           "#EF553B",
           "#00cc96",
           "#ab63fa",
           "#FFA15A",
           "#19d3f3",
           "#FF6692",
           "#B6E880",
           "#FF97FF",
           "#FECB52"
          ],
          "font": {
           "color": "#2a3f5f"
          },
          "geo": {
           "bgcolor": "white",
           "lakecolor": "white",
           "landcolor": "#E5ECF6",
           "showlakes": true,
           "showland": true,
           "subunitcolor": "white"
          },
          "hoverlabel": {
           "align": "left"
          },
          "hovermode": "closest",
          "mapbox": {
           "style": "light"
          },
          "paper_bgcolor": "white",
          "plot_bgcolor": "#E5ECF6",
          "polar": {
           "angularaxis": {
            "gridcolor": "white",
            "linecolor": "white",
            "ticks": ""
           },
           "bgcolor": "#E5ECF6",
           "radialaxis": {
            "gridcolor": "white",
            "linecolor": "white",
            "ticks": ""
           }
          },
          "scene": {
           "xaxis": {
            "backgroundcolor": "#E5ECF6",
            "gridcolor": "white",
            "gridwidth": 2,
            "linecolor": "white",
            "showbackground": true,
            "ticks": "",
            "zerolinecolor": "white"
           },
           "yaxis": {
            "backgroundcolor": "#E5ECF6",
            "gridcolor": "white",
            "gridwidth": 2,
            "linecolor": "white",
            "showbackground": true,
            "ticks": "",
            "zerolinecolor": "white"
           },
           "zaxis": {
            "backgroundcolor": "#E5ECF6",
            "gridcolor": "white",
            "gridwidth": 2,
            "linecolor": "white",
            "showbackground": true,
            "ticks": "",
            "zerolinecolor": "white"
           }
          },
          "shapedefaults": {
           "line": {
            "color": "#2a3f5f"
           }
          },
          "ternary": {
           "aaxis": {
            "gridcolor": "white",
            "linecolor": "white",
            "ticks": ""
           },
           "baxis": {
            "gridcolor": "white",
            "linecolor": "white",
            "ticks": ""
           },
           "bgcolor": "#E5ECF6",
           "caxis": {
            "gridcolor": "white",
            "linecolor": "white",
            "ticks": ""
           }
          },
          "title": {
           "x": 0.05
          },
          "xaxis": {
           "automargin": true,
           "gridcolor": "white",
           "linecolor": "white",
           "ticks": "",
           "title": {
            "standoff": 15
           },
           "zerolinecolor": "white",
           "zerolinewidth": 2
          },
          "yaxis": {
           "automargin": true,
           "gridcolor": "white",
           "linecolor": "white",
           "ticks": "",
           "title": {
            "standoff": 15
           },
           "zerolinecolor": "white",
           "zerolinewidth": 2
          }
         }
        },
        "title": {
         "text": "Optimization History Plot"
        },
        "xaxis": {
         "title": {
          "text": "Trial"
         }
        },
        "yaxis": {
         "title": {
          "text": "Objective Value"
         }
        }
       }
      }
     },
     "metadata": {},
     "output_type": "display_data"
    }
   ],
   "source": [
    "optuna.visualization.plot_optimization_history(rf_study)"
   ]
  },
  {
   "cell_type": "code",
   "execution_count": 63,
   "metadata": {},
   "outputs": [
    {
     "data": {
      "text/plain": [
       "{'n_estimators': 430,\n",
       " 'max_depth': 28,\n",
       " 'min_samples_split': 41,\n",
       " 'min_samples_leaf': 3}"
      ]
     },
     "execution_count": 63,
     "metadata": {},
     "output_type": "execute_result"
    }
   ],
   "source": [
    "rf_study.best_params"
   ]
  },
  {
   "cell_type": "code",
   "execution_count": 84,
   "metadata": {},
   "outputs": [
    {
     "name": "stdout",
     "output_type": "stream",
     "text": [
      "parameters : {'n_estimators': 1000, 'max_depth': 32, 'min_samples_split': 35, 'min_samples_leaf': 35}\n",
      "### Fold 1 / 10 ###\n",
      "-> Fold 1 RMSE = 1.63062\n",
      "### Fold 2 / 10 ###\n",
      "-> Fold 2 RMSE = 1.70193\n",
      "### Fold 3 / 10 ###\n",
      "-> Fold 3 RMSE = 1.64607\n",
      "### Fold 4 / 10 ###\n",
      "-> Fold 4 RMSE = 1.75216\n",
      "### Fold 5 / 10 ###\n",
      "-> Fold 5 RMSE = 1.49404\n",
      "### Fold 6 / 10 ###\n",
      "-> Fold 6 RMSE = 1.79342\n",
      "### Fold 7 / 10 ###\n",
      "-> Fold 7 RMSE = 1.86196\n",
      "### Fold 8 / 10 ###\n",
      "-> Fold 8 RMSE = 1.56610\n",
      "### Fold 9 / 10 ###\n",
      "-> Fold 9 RMSE = 1.74983\n",
      "### Fold 10 / 10 ###\n",
      "-> Fold 10 RMSE = 1.62082\n",
      "-> Folds RMSE = 1.68170\n"
     ]
    },
    {
     "data": {
      "text/plain": [
       "['c:\\\\Users\\\\kgw\\\\Desktop\\\\kgw\\\\projects\\\\dacon\\\\elec_car_price_forecasting/result/rf/rf_1.68169522.pkl']"
      ]
     },
     "execution_count": 84,
     "metadata": {},
     "output_type": "execute_result"
    }
   ],
   "source": [
    "params = {'n_estimators': 1000,\n",
    " 'max_depth': 32,\n",
    " 'min_samples_split': 35,\n",
    " 'min_samples_leaf': 35}\n",
    "\n",
    "rmse, pred, model = trainer(params, log=True)\n",
    "\n",
    "# saved_model_file = glob(f'{PATH}/result/rf/weights/*.pkl')[0]\n",
    "# if float(os.path.splitext(os.path.basename(saved_model_file))[0].split('_')[1]) > rmse:\n",
    "#     os.remove(saved_model_file)\n",
    "joblib.dump(model, f'{PATH}/result/rf/rf_{rmse:.8f}.pkl')"
   ]
  },
  {
   "cell_type": "code",
   "execution_count": 66,
   "metadata": {},
   "outputs": [
    {
     "data": {
      "text/html": [
       "<div>\n",
       "<style scoped>\n",
       "    .dataframe tbody tr th:only-of-type {\n",
       "        vertical-align: middle;\n",
       "    }\n",
       "\n",
       "    .dataframe tbody tr th {\n",
       "        vertical-align: top;\n",
       "    }\n",
       "\n",
       "    .dataframe thead th {\n",
       "        text-align: right;\n",
       "    }\n",
       "</style>\n",
       "<table border=\"1\" class=\"dataframe\">\n",
       "  <thead>\n",
       "    <tr style=\"text-align: right;\">\n",
       "      <th></th>\n",
       "      <th>ID</th>\n",
       "      <th>가격(백만원)</th>\n",
       "    </tr>\n",
       "  </thead>\n",
       "  <tbody>\n",
       "    <tr>\n",
       "      <th>0</th>\n",
       "      <td>TEST_000</td>\n",
       "      <td>130.880257</td>\n",
       "    </tr>\n",
       "    <tr>\n",
       "      <th>1</th>\n",
       "      <td>TEST_001</td>\n",
       "      <td>80.156522</td>\n",
       "    </tr>\n",
       "    <tr>\n",
       "      <th>2</th>\n",
       "      <td>TEST_002</td>\n",
       "      <td>65.074535</td>\n",
       "    </tr>\n",
       "    <tr>\n",
       "      <th>3</th>\n",
       "      <td>TEST_003</td>\n",
       "      <td>34.613418</td>\n",
       "    </tr>\n",
       "    <tr>\n",
       "      <th>4</th>\n",
       "      <td>TEST_004</td>\n",
       "      <td>47.945115</td>\n",
       "    </tr>\n",
       "  </tbody>\n",
       "</table>\n",
       "</div>"
      ],
      "text/plain": [
       "         ID     가격(백만원)\n",
       "0  TEST_000  130.880257\n",
       "1  TEST_001   80.156522\n",
       "2  TEST_002   65.074535\n",
       "3  TEST_003   34.613418\n",
       "4  TEST_004   47.945115"
      ]
     },
     "execution_count": 66,
     "metadata": {},
     "output_type": "execute_result"
    }
   ],
   "source": [
    "submit = pd.read_csv(f'{PATH}/data/sample_submission.csv')\n",
    "submit['가격(백만원)'] = pred\n",
    "submit.head()"
   ]
  },
  {
   "cell_type": "code",
   "execution_count": 67,
   "metadata": {},
   "outputs": [
    {
     "name": "stdout",
     "output_type": "stream",
     "text": [
      "c:\\Users\\kgw\\Desktop\\kgw\\projects\\dacon\\elec_car_price_forecasting/result/rf/rf_CV-1.3358464328254693_LB-.csv\n"
     ]
    }
   ],
   "source": [
    "save_file_name = f'{PATH}/result/rf/rf_CV-{rmse}_LB-.csv'\n",
    "submit.to_csv(save_file_name, index=False)\n",
    "print(save_file_name)"
   ]
  },
  {
   "cell_type": "code",
   "execution_count": null,
   "metadata": {},
   "outputs": [],
   "source": []
  }
 ],
 "metadata": {
  "kernelspec": {
   "display_name": "venv",
   "language": "python",
   "name": "python3"
  },
  "language_info": {
   "codemirror_mode": {
    "name": "ipython",
    "version": 3
   },
   "file_extension": ".py",
   "mimetype": "text/x-python",
   "name": "python",
   "nbconvert_exporter": "python",
   "pygments_lexer": "ipython3",
   "version": "3.10.11"
  }
 },
 "nbformat": 4,
 "nbformat_minor": 2
}
