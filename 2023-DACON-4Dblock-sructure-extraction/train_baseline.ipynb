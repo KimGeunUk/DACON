{
 "cells": [
  {
   "cell_type": "markdown",
   "id": "122435b1-7174-4b65-8cb5-c0b45d0281cc",
   "metadata": {},
   "source": [
    "## Import"
   ]
  },
  {
   "cell_type": "code",
   "execution_count": 1,
   "id": "f94a1eb8-d218-46fe-b30e-4bb796d3988d",
   "metadata": {},
   "outputs": [],
   "source": [
    "import random\n",
    "import pandas as pd\n",
    "import numpy as np\n",
    "import os\n",
    "import cv2\n",
    "\n",
    "import torch\n",
    "import torch.nn as nn\n",
    "import torch.optim as optim\n",
    "import torch.nn.functional as F\n",
    "from torch.utils.data import Dataset, DataLoader\n",
    "\n",
    "import timm\n",
    "import torchvision.models as models\n",
    "from torchvision.models import resnet50\n",
    "from torchvision.models import inception_v3\n",
    "from warmup_scheduler import GradualWarmupScheduler\n",
    "\n",
    "import albumentations as A\n",
    "from albumentations.pytorch.transforms import ToTensorV2\n",
    "\n",
    "from tqdm.auto import tqdm\n",
    "from sklearn.model_selection import KFold\n",
    "from sklearn.metrics import accuracy_score, f1_score, precision_recall_fscore_support\n",
    "from sklearn.model_selection import train_test_split\n",
    "\n",
    "import warnings\n",
    "warnings.filterwarnings(action='ignore') "
   ]
  },
  {
   "cell_type": "code",
   "execution_count": 2,
   "id": "c099af3a-0ee5-4407-85fd-61beb3968720",
   "metadata": {},
   "outputs": [
    {
     "data": {
      "text/plain": [
       "device(type='cuda')"
      ]
     },
     "execution_count": 2,
     "metadata": {},
     "output_type": "execute_result"
    }
   ],
   "source": [
    "device = torch.device('cuda') if torch.cuda.is_available() else torch.device('cpu')\n",
    "device"
   ]
  },
  {
   "cell_type": "markdown",
   "id": "c98008eb-592f-494a-bfb0-22dcdc29128e",
   "metadata": {},
   "source": [
    "## Hyperparameter Setting"
   ]
  },
  {
   "cell_type": "code",
   "execution_count": 3,
   "id": "69bfce29-e35a-4208-8e5d-3a8aeeff81e8",
   "metadata": {},
   "outputs": [],
   "source": [
    "CFG = {\n",
    "    'IMG_SIZE':224,\n",
    "    'EPOCHS':50,\n",
    "    'LEARNING_RATE':5e-4,\n",
    "    'BATCH_SIZE':64,\n",
    "    'SEED':909,\n",
    "    'NUM_WORKERS':8,\n",
    "    'WEIGHT_DECAY':1e-5,\n",
    "}"
   ]
  },
  {
   "cell_type": "markdown",
   "id": "898da03a-a870-497d-90d2-f8c69bb72646",
   "metadata": {},
   "source": [
    "## Fixed RandomSeed"
   ]
  },
  {
   "cell_type": "code",
   "execution_count": 4,
   "id": "8760a2a3-3593-4927-bda7-18b6d8dc4209",
   "metadata": {},
   "outputs": [],
   "source": [
    "def seed_everything(seed):\n",
    "    random.seed(seed)\n",
    "    os.environ['PYTHONHASHSEED'] = str(seed)\n",
    "    np.random.seed(seed)\n",
    "    torch.manual_seed(seed)\n",
    "    torch.cuda.manual_seed(seed)\n",
    "    torch.backends.cudnn.deterministic = True\n",
    "    torch.backends.cudnn.benchmark = True\n",
    "\n",
    "seed_everything(CFG['SEED']) # Seed 고정"
   ]
  },
  {
   "cell_type": "markdown",
   "id": "75c9af08-bd30-48f6-8cb9-f62ba7059a6b",
   "metadata": {},
   "source": [
    "## Custom Dataset"
   ]
  },
  {
   "cell_type": "code",
   "execution_count": 5,
   "id": "fe049e54-83cf-4529-af78-915ceb9117dc",
   "metadata": {},
   "outputs": [],
   "source": [
    "class CustomDataset(Dataset):\n",
    "    def __init__(self, img_path_list, label_list, transforms=None):\n",
    "        self.img_path_list = img_path_list\n",
    "        self.label_list = label_list\n",
    "        self.transforms = transforms\n",
    "        \n",
    "    def __getitem__(self, index):\n",
    "        img_path = self.img_path_list[index]\n",
    "        \n",
    "        image = cv2.imread(img_path)\n",
    "        \n",
    "        if self.transforms is not None:\n",
    "            image = self.transforms(image=image)['image']\n",
    "        \n",
    "        if self.label_list is not None:\n",
    "            label = torch.FloatTensor(self.label_list[index])\n",
    "            return image, label\n",
    "        else:\n",
    "            return image\n",
    "        \n",
    "    def __len__(self):\n",
    "        return len(self.img_path_list)"
   ]
  },
  {
   "cell_type": "code",
   "execution_count": 6,
   "id": "dc002a63-6035-428b-9d3c-f0bbd4f2bcd6",
   "metadata": {},
   "outputs": [],
   "source": [
    "train_transform = A.Compose([\n",
    "                            A.Resize(CFG['IMG_SIZE'],CFG['IMG_SIZE']),\n",
    "                            A.HorizontalFlip(always_apply=False, p=0.7),\n",
    "                            A.RandomResizedCrop(always_apply=False, p=0.5, height=CFG[\"IMG_SIZE\"], width=CFG[\"IMG_SIZE\"], scale=(0.7, 1.0), ratio=(0.5, 2.0), interpolation=3),\n",
    "                            # A.CLAHE(always_apply=False, p=0.5, clip_limit=(1, 4), tile_grid_size=(8, 8)),\n",
    "                            # A.AdvancedBlur(always_apply=False, p=0.5, blur_limit=(3, 7), sigmaX_limit=(0.2, 1.0), sigmaY_limit=(0.2, 1.0), rotate_limit=(-90, 90), beta_limit=(0.5, 8.0), noise_limit=(0.9, 1.1)),\n",
    "                            A.PixelDropout(always_apply=False, p=0.5, dropout_prob=0.01, per_channel=0, drop_value=(0, 0, 0), mask_drop_value=None),\n",
    "                            A.Normalize(mean=(0.485, 0.456, 0.406), std=(0.229, 0.224, 0.225), max_pixel_value=255.0, always_apply=False, p=1.0),\n",
    "                            ToTensorV2()\n",
    "                            ])\n",
    "\n",
    "test_transform = A.Compose([\n",
    "                            A.Resize(CFG['IMG_SIZE'],CFG['IMG_SIZE']),\n",
    "                            A.Normalize(mean=(0.485, 0.456, 0.406), std=(0.229, 0.224, 0.225), max_pixel_value=255.0, always_apply=False, p=1.0),\n",
    "                            ToTensorV2()\n",
    "                            ])"
   ]
  },
  {
   "cell_type": "markdown",
   "id": "19a9bd2b-5c4a-49d2-8623-512c87c9f071",
   "metadata": {},
   "source": [
    "## Model Define"
   ]
  },
  {
   "cell_type": "code",
   "execution_count": 7,
   "id": "8054f667-e20a-4b8a-b40d-ffeaa8714c45",
   "metadata": {},
   "outputs": [],
   "source": [
    "class ResNet(nn.Module):\n",
    "    def __init__(self, num_classes=10, pretrained=True):\n",
    "        super(ResNet, self).__init__()\n",
    "        self.num_classes = num_classes\n",
    "        self.pretrained = pretrained\n",
    "        \n",
    "        self.model = timm.create_model('resnetv2_101', pretrained=self.pretrained)\n",
    "        self.fc = nn.Sequential(nn.Dropout(p=0.2, inplace=True),\n",
    "                               nn.Linear(1000, num_classes))\n",
    "       \n",
    "    def forward(self, x):\n",
    "        x = self.model(x)\n",
    "        x = self.fc(x)\n",
    "        x = F.sigmoid(x)\n",
    "        return x"
   ]
  },
  {
   "cell_type": "code",
   "execution_count": 8,
   "id": "09b2a4ed-b5d3-41a4-8cbf-bc756052eafb",
   "metadata": {},
   "outputs": [],
   "source": [
    "class ResNetV2(nn.Module):\n",
    "    def __init__(self, num_classes=10, pretrained=True):\n",
    "        super(ResNetV2, self).__init__()\n",
    "        self.num_classes = num_classes\n",
    "        self.pretrained = pretrained\n",
    "        \n",
    "        self.model = timm.create_model('resnetv2_50x3_bitm', pretrained=self.pretrained)\n",
    "        self.fc = nn.Sequential(nn.Dropout(p=0.2, inplace=True),\n",
    "                               nn.Linear(1000, num_classes))\n",
    "       \n",
    "    def forward(self, x):\n",
    "        x = self.model(x)\n",
    "        x = self.fc(x)\n",
    "        x = F.sigmoid(x)\n",
    "        return x"
   ]
  },
  {
   "cell_type": "code",
   "execution_count": 9,
   "id": "1132ea16-99c8-4f68-9aac-4ea87a2ed7b1",
   "metadata": {},
   "outputs": [],
   "source": [
    "class EfficientNetB3(nn.Module):\n",
    "    def __init__(self, num_classes=10, pretrained=True):\n",
    "        super(EfficientNetB3, self).__init__()\n",
    "        self.num_classes = num_classes\n",
    "        self.pretrained = pretrained\n",
    "        \n",
    "        self.model = timm.create_model('efficientnet_b3', pretrained=self.pretrained)\n",
    "        self.fc = nn.Sequential(nn.Dropout(p=0.2, inplace=True),\n",
    "                               nn.Linear(1000, num_classes))\n",
    "\n",
    "    def forward(self, x):\n",
    "        x = self.model(x)\n",
    "        x = self.fc(x)\n",
    "        x = F.sigmoid(x)\n",
    "        return x"
   ]
  },
  {
   "cell_type": "code",
   "execution_count": 10,
   "id": "2852d5f9-4735-49b1-824b-465917706440",
   "metadata": {},
   "outputs": [],
   "source": [
    "class EfficientNetB7(nn.Module):\n",
    "    def __init__(self, num_classes=10, pretrained=True):\n",
    "        super(EfficientNetB7, self).__init__()\n",
    "        self.num_classes = num_classes\n",
    "        self.pretrained = pretrained\n",
    "        \n",
    "        self.model = timm.create_model('efficientnet_b7', pretrained=self.pretrained)\n",
    "        self.fc = nn.Sequential(nn.Dropout(p=0.2, inplace=True),\n",
    "                               nn.Linear(1000, num_classes))\n",
    "\n",
    "    def forward(self, x):\n",
    "        x = self.model(x)\n",
    "        x = self.fc(x)\n",
    "        x = F.sigmoid(x)\n",
    "        return x"
   ]
  },
  {
   "cell_type": "code",
   "execution_count": 11,
   "id": "41ccc40e-f8b2-486f-aa2c-37356b50beb4",
   "metadata": {},
   "outputs": [],
   "source": [
    "class EfficientNetB8(nn.Module):\n",
    "    def __init__(self, num_classes=10, pretrained=True):\n",
    "        super(EfficientNetB8, self).__init__()\n",
    "        self.num_classes = num_classes\n",
    "        self.pretrained = pretrained\n",
    "        \n",
    "        self.model = timm.create_model('efficientnet_b8', pretrained=self.pretrained, num_classes=self.num_classes)\n",
    "        # self.fc = nn.Sequential(nn.Dropout(p=0.2, inplace=True),\n",
    "        #                        nn.Linear(1000, num_classes))\n",
    "\n",
    "    def forward(self, x):\n",
    "        x = self.model(x)\n",
    "        # x = self.fc(x)\n",
    "        x = F.sigmoid(x)\n",
    "        return x"
   ]
  },
  {
   "cell_type": "code",
   "execution_count": 12,
   "id": "4229479d-6fc3-4e85-9c5e-913aa07d00fb",
   "metadata": {},
   "outputs": [],
   "source": [
    "class Vit224(nn.Module):\n",
    "    def __init__(self, num_classes=10, pretrained=True):\n",
    "        super(Vit224, self).__init__()\n",
    "        self.num_classes = num_classes\n",
    "        self.pretrained = pretrained\n",
    "        \n",
    "        self.model = timm.create_model('vit_base_patch16_224', pretrained=self.pretrained)\n",
    "        self.fc = nn.Sequential(nn.Dropout(p=0.2, inplace=True),\n",
    "                               nn.Linear(1000, num_classes))\n",
    "\n",
    "    def forward(self, x):\n",
    "        x = self.model(x)\n",
    "        x = self.fc(x)\n",
    "        x = F.sigmoid(x)\n",
    "        return x"
   ]
  },
  {
   "cell_type": "code",
   "execution_count": 13,
   "id": "988c199a-e4f0-4ab9-99e6-ff8de2a563ff",
   "metadata": {},
   "outputs": [],
   "source": [
    "class Maxvit224(nn.Module):\n",
    "    def __init__(self, num_classes=10, pretrained=True):\n",
    "        super(Maxvit224, self).__init__()\n",
    "        self.num_classes = num_classes\n",
    "        self.pretrained = pretrained\n",
    "        \n",
    "        self.model = timm.create_model('maxvit_rmlp_small_rw_224', pretrained=self.pretrained, num_classes=self.num_classes)\n",
    "        # self.fc = nn.Sequential(nn.Dropout(p=0.2, inplace=True),\n",
    "        #                       nn.Linear(1000, num_classes))\n",
    "\n",
    "    def forward(self, x):\n",
    "        x = self.model(x)\n",
    "        # x = self.fc(x)\n",
    "        x = F.sigmoid(x)\n",
    "        return x"
   ]
  },
  {
   "cell_type": "code",
   "execution_count": 14,
   "id": "1932aee2-cbe0-426c-ad9e-1c51827ff0eb",
   "metadata": {},
   "outputs": [],
   "source": [
    "class Densenet(nn.Module):\n",
    "    def __init__(self, num_classes=10, pretrained=True):\n",
    "        super(Densenet, self).__init__()\n",
    "        self.num_classes = num_classes\n",
    "        self.pretrained = pretrained\n",
    "        \n",
    "        self.model = timm.create_model('densenet201', pretrained=self.pretrained)\n",
    "        self.fc = nn.Sequential(nn.Dropout(p=0.2, inplace=True),\n",
    "                               nn.Linear(1000, num_classes))\n",
    "\n",
    "    def forward(self, x):\n",
    "        x = self.model(x)\n",
    "        x = self.fc(x)\n",
    "        x = F.sigmoid(x)\n",
    "        return x"
   ]
  },
  {
   "cell_type": "code",
   "execution_count": 15,
   "id": "1456d9a8-8736-434b-bb43-43fba8d46cfa",
   "metadata": {},
   "outputs": [],
   "source": [
    "class Convnext(nn.Module):\n",
    "    def __init__(self, num_classes=10, pretrained=True):\n",
    "        super(Convnext, self).__init__()\n",
    "        self.num_classes = num_classes\n",
    "        self.pretrained = pretrained\n",
    "        \n",
    "        self.model = timm.create_model('convnext_base', pretrained=self.pretrained)\n",
    "        self.fc = nn.Sequential(nn.Dropout(p=0.2, inplace=True),\n",
    "                               nn.Linear(1000, num_classes))\n",
    "\n",
    "    def forward(self, x):\n",
    "        x = self.model(x)\n",
    "        x = self.fc(x)\n",
    "        x = F.sigmoid(x)\n",
    "        return x"
   ]
  },
  {
   "cell_type": "markdown",
   "id": "2e24edb8-e6ea-454e-a2f9-aa4cab730060",
   "metadata": {},
   "source": [
    "## Train"
   ]
  },
  {
   "cell_type": "code",
   "execution_count": 16,
   "id": "994be23a-b2bf-4899-99a6-8f6611d4fc1c",
   "metadata": {},
   "outputs": [],
   "source": [
    "def train(model, optimizer, train_loader, val_loader, scheduler, device):\n",
    "    model.to(device)\n",
    "    criterion = nn.BCELoss().to(device)\n",
    "    \n",
    "    # Warm Up\n",
    "    warmup_epochs = int(CFG[\"EPOCHS\"] * 0.15)\n",
    "    warmup = GradualWarmupScheduler(optimizer, multiplier=1, total_epoch=warmup_epochs, after_scheduler=scheduler)\n",
    "    \n",
    "    best_val_loss = 999999\n",
    "    best_val_f1 = 0\n",
    "    best_model = None\n",
    "    \n",
    "    # Early Stop\n",
    "    patience_limit = 3\n",
    "    patience = 0\n",
    "    \n",
    "    for epoch in range(1, CFG['EPOCHS']+1):       \n",
    "        if epoch <= warmup_epochs:\n",
    "            warmup.step()\n",
    "        \n",
    "        torch.cuda.empty_cache()\n",
    "        model.train()\n",
    "        \n",
    "        train_loss = []        \n",
    "        for imgs, labels in tqdm(iter(train_loader)):\n",
    "            imgs = imgs.float().to(device)\n",
    "            labels = labels.to(device)\n",
    "            \n",
    "            optimizer.zero_grad()\n",
    "            \n",
    "            output = model(imgs)\n",
    "            loss = criterion(output, labels)\n",
    "            \n",
    "            loss.backward()\n",
    "            optimizer.step()\n",
    "            \n",
    "            train_loss.append(loss.item())\n",
    "                    \n",
    "        _val_loss, _val_acc, _val_f1 = validation(model, criterion, val_loader, device)\n",
    "        _train_loss = np.mean(train_loss)\n",
    "        print(f'Epoch [{epoch}], Train Loss : [{_train_loss:.5f}] Val Loss : [{_val_loss:.5f}] Val ACC : [{_val_acc:.5f}] Val F1 : [{_val_f1:.5f}]')\n",
    "        \n",
    "        if scheduler is not None:\n",
    "            scheduler.step(_val_acc)\n",
    "            \n",
    "        if best_val_f1 < _val_f1:\n",
    "            best_val_loss = _val_loss\n",
    "            best_val_f1 = _val_f1\n",
    "            best_model = model\n",
    "            patience = 0\n",
    "        else:\n",
    "            patience += 1\n",
    "            if patience >= patience_limit:\n",
    "                break\n",
    "\n",
    "    print(f'Best Loss : [{best_val_loss:.5f}] Best ACC : [{best_val_f1:.5f}]')\n",
    "    return best_model"
   ]
  },
  {
   "cell_type": "code",
   "execution_count": 17,
   "id": "42ff2672-7868-49da-8a42-c302d64b1678",
   "metadata": {},
   "outputs": [],
   "source": [
    "def validation(model, criterion, val_loader, device):\n",
    "    model.eval()\n",
    "    \n",
    "    val_loss = []\n",
    "    val_acc = []\n",
    "    val_f1 = []\n",
    "    with torch.no_grad():\n",
    "        for imgs, labels in tqdm(iter(val_loader)):\n",
    "            imgs = imgs.float().to(device)\n",
    "            labels = labels.to(device)\n",
    "            \n",
    "            probs = model(imgs)\n",
    "            \n",
    "            loss = criterion(probs, labels)\n",
    "            \n",
    "            probs  = probs.cpu().detach().numpy()\n",
    "            labels = labels.cpu().detach().numpy()\n",
    "            preds = probs > 0.5\n",
    "            batch_acc = (labels == preds).mean()\n",
    "            batch_f1 = f1_score(labels, preds, average='macro')\n",
    "            \n",
    "            val_f1.append(batch_f1)\n",
    "            val_acc.append(batch_acc)\n",
    "            val_loss.append(loss.item())\n",
    "        \n",
    "        _val_loss = np.mean(val_loss)\n",
    "        _val_acc = np.mean(val_acc)\n",
    "        _val_f1 = np.mean(val_f1)\n",
    "    \n",
    "    return _val_loss, _val_acc, _val_f1"
   ]
  },
  {
   "cell_type": "markdown",
   "id": "61d781a0-5428-4378-9405-6d6fed0e2325",
   "metadata": {},
   "source": [
    "## Data Load"
   ]
  },
  {
   "cell_type": "code",
   "execution_count": 18,
   "id": "fa354c84-d972-4f13-9c27-8c24217f77dd",
   "metadata": {},
   "outputs": [],
   "source": [
    "df = pd.read_csv('./data/train_back.csv')\n",
    "df['img_path'] = df['img_path'].apply(lambda x: x.replace('./train/', './data/train/'))"
   ]
  },
  {
   "cell_type": "markdown",
   "id": "7217d356-bd11-41a6-88f1-9acbcf6ac6df",
   "metadata": {
    "tags": []
   },
   "source": [
    "## Train / Valid Split"
   ]
  },
  {
   "cell_type": "code",
   "execution_count": 19,
   "id": "d16ce052-10b0-4bec-b627-702e6eba2d9a",
   "metadata": {},
   "outputs": [],
   "source": [
    "df = df.sample(frac=1)\n",
    "train_len = int(len(df) * 0.8)"
   ]
  },
  {
   "cell_type": "code",
   "execution_count": 20,
   "id": "953d5246-8d68-46e5-94a0-d9958c373fe6",
   "metadata": {},
   "outputs": [],
   "source": [
    "train_x = df[:train_len]\n",
    "valid_x = df[train_len:]"
   ]
  },
  {
   "cell_type": "markdown",
   "id": "d14c7432-d0c5-47b5-9e6a-c55a74ef2898",
   "metadata": {
    "tags": []
   },
   "source": [
    "## Data Preprocessing"
   ]
  },
  {
   "cell_type": "code",
   "execution_count": 21,
   "id": "62f1e56a-bb3d-4b96-b2ca-5ce96b3dcc7f",
   "metadata": {},
   "outputs": [],
   "source": [
    "def get_labels(df):\n",
    "    return df.iloc[:,2:].values"
   ]
  },
  {
   "cell_type": "code",
   "execution_count": 22,
   "id": "df96d61d-9814-4b59-9492-e2359b011ecb",
   "metadata": {},
   "outputs": [],
   "source": [
    "train_labels = get_labels(train_x)\n",
    "valid_labels = get_labels(valid_x)"
   ]
  },
  {
   "cell_type": "markdown",
   "id": "e4ca6d05-99d1-4bda-a06b-452d302796ee",
   "metadata": {
    "tags": []
   },
   "source": [
    "## Run"
   ]
  },
  {
   "cell_type": "code",
   "execution_count": 23,
   "id": "c461d09b-6b51-43e7-acdf-29e365edc609",
   "metadata": {
    "tags": []
   },
   "outputs": [
    {
     "data": {
      "application/vnd.jupyter.widget-view+json": {
       "model_id": "0b2f5aa4ea41448abc2c495c82dd1ad0",
       "version_major": 2,
       "version_minor": 0
      },
      "text/plain": [
       "  0%|          | 0/413 [00:00<?, ?it/s]"
      ]
     },
     "metadata": {},
     "output_type": "display_data"
    },
    {
     "data": {
      "application/vnd.jupyter.widget-view+json": {
       "model_id": "9b563451b1644db8a597842397bd1cf4",
       "version_major": 2,
       "version_minor": 0
      },
      "text/plain": [
       "  0%|          | 0/104 [00:00<?, ?it/s]"
      ]
     },
     "metadata": {},
     "output_type": "display_data"
    },
    {
     "name": "stdout",
     "output_type": "stream",
     "text": [
      "Epoch [1], Train Loss : [0.33151] Val Loss : [0.15819] Val ACC : [0.93834] Val F1 : [0.92840]\n"
     ]
    },
    {
     "data": {
      "application/vnd.jupyter.widget-view+json": {
       "model_id": "77959d40f85d42a499ee52944664245f",
       "version_major": 2,
       "version_minor": 0
      },
      "text/plain": [
       "  0%|          | 0/413 [00:00<?, ?it/s]"
      ]
     },
     "metadata": {},
     "output_type": "display_data"
    },
    {
     "data": {
      "application/vnd.jupyter.widget-view+json": {
       "model_id": "f7c1783d50074fdf9ffef1edf12862bf",
       "version_major": 2,
       "version_minor": 0
      },
      "text/plain": [
       "  0%|          | 0/104 [00:00<?, ?it/s]"
      ]
     },
     "metadata": {},
     "output_type": "display_data"
    },
    {
     "name": "stdout",
     "output_type": "stream",
     "text": [
      "Epoch [2], Train Loss : [0.13685] Val Loss : [0.10128] Val ACC : [0.96038] Val F1 : [0.95221]\n"
     ]
    },
    {
     "data": {
      "application/vnd.jupyter.widget-view+json": {
       "model_id": "fce605e2cae2422b8b747aac079011b9",
       "version_major": 2,
       "version_minor": 0
      },
      "text/plain": [
       "  0%|          | 0/413 [00:00<?, ?it/s]"
      ]
     },
     "metadata": {},
     "output_type": "display_data"
    },
    {
     "data": {
      "application/vnd.jupyter.widget-view+json": {
       "model_id": "6c5cd2dd017b4f319f81684475f93cd7",
       "version_major": 2,
       "version_minor": 0
      },
      "text/plain": [
       "  0%|          | 0/104 [00:00<?, ?it/s]"
      ]
     },
     "metadata": {},
     "output_type": "display_data"
    },
    {
     "name": "stdout",
     "output_type": "stream",
     "text": [
      "Epoch [3], Train Loss : [0.09795] Val Loss : [0.09290] Val ACC : [0.96519] Val F1 : [0.95790]\n"
     ]
    },
    {
     "data": {
      "application/vnd.jupyter.widget-view+json": {
       "model_id": "2bb94149ad6d498c88343823d40ddf37",
       "version_major": 2,
       "version_minor": 0
      },
      "text/plain": [
       "  0%|          | 0/413 [00:00<?, ?it/s]"
      ]
     },
     "metadata": {},
     "output_type": "display_data"
    },
    {
     "data": {
      "application/vnd.jupyter.widget-view+json": {
       "model_id": "814197a516b6455588bdfa4fa9ef68d9",
       "version_major": 2,
       "version_minor": 0
      },
      "text/plain": [
       "  0%|          | 0/104 [00:00<?, ?it/s]"
      ]
     },
     "metadata": {},
     "output_type": "display_data"
    },
    {
     "name": "stdout",
     "output_type": "stream",
     "text": [
      "Epoch [4], Train Loss : [0.08305] Val Loss : [0.07126] Val ACC : [0.97210] Val F1 : [0.96656]\n"
     ]
    },
    {
     "data": {
      "application/vnd.jupyter.widget-view+json": {
       "model_id": "61d633510f0744598e41f9acbe374336",
       "version_major": 2,
       "version_minor": 0
      },
      "text/plain": [
       "  0%|          | 0/413 [00:00<?, ?it/s]"
      ]
     },
     "metadata": {},
     "output_type": "display_data"
    },
    {
     "data": {
      "application/vnd.jupyter.widget-view+json": {
       "model_id": "f01214050897484da1dc7e56cea2f231",
       "version_major": 2,
       "version_minor": 0
      },
      "text/plain": [
       "  0%|          | 0/104 [00:00<?, ?it/s]"
      ]
     },
     "metadata": {},
     "output_type": "display_data"
    },
    {
     "name": "stdout",
     "output_type": "stream",
     "text": [
      "Epoch [5], Train Loss : [0.07696] Val Loss : [0.07355] Val ACC : [0.97273] Val F1 : [0.96711]\n"
     ]
    },
    {
     "data": {
      "application/vnd.jupyter.widget-view+json": {
       "model_id": "593541932264462882223dee1b4aa048",
       "version_major": 2,
       "version_minor": 0
      },
      "text/plain": [
       "  0%|          | 0/413 [00:00<?, ?it/s]"
      ]
     },
     "metadata": {},
     "output_type": "display_data"
    },
    {
     "data": {
      "application/vnd.jupyter.widget-view+json": {
       "model_id": "440acf73e7a9455292923edc5e1ba5c4",
       "version_major": 2,
       "version_minor": 0
      },
      "text/plain": [
       "  0%|          | 0/104 [00:00<?, ?it/s]"
      ]
     },
     "metadata": {},
     "output_type": "display_data"
    },
    {
     "name": "stdout",
     "output_type": "stream",
     "text": [
      "Epoch [6], Train Loss : [0.07231] Val Loss : [0.07377] Val ACC : [0.97084] Val F1 : [0.96471]\n"
     ]
    },
    {
     "data": {
      "application/vnd.jupyter.widget-view+json": {
       "model_id": "5fe068af47f9480a9886b8808ad1be18",
       "version_major": 2,
       "version_minor": 0
      },
      "text/plain": [
       "  0%|          | 0/413 [00:00<?, ?it/s]"
      ]
     },
     "metadata": {},
     "output_type": "display_data"
    },
    {
     "data": {
      "application/vnd.jupyter.widget-view+json": {
       "model_id": "a79ef9cf7dc7450d8e613b6dbd5ebf4f",
       "version_major": 2,
       "version_minor": 0
      },
      "text/plain": [
       "  0%|          | 0/104 [00:00<?, ?it/s]"
      ]
     },
     "metadata": {},
     "output_type": "display_data"
    },
    {
     "name": "stdout",
     "output_type": "stream",
     "text": [
      "Epoch [7], Train Loss : [0.07275] Val Loss : [0.07460] Val ACC : [0.97249] Val F1 : [0.96656]\n"
     ]
    },
    {
     "data": {
      "application/vnd.jupyter.widget-view+json": {
       "model_id": "13bb67b225444da8a9e531a725dcfa75",
       "version_major": 2,
       "version_minor": 0
      },
      "text/plain": [
       "  0%|          | 0/413 [00:00<?, ?it/s]"
      ]
     },
     "metadata": {},
     "output_type": "display_data"
    },
    {
     "data": {
      "application/vnd.jupyter.widget-view+json": {
       "model_id": "16688ece90b24e279a95b08621e89ec6",
       "version_major": 2,
       "version_minor": 0
      },
      "text/plain": [
       "  0%|          | 0/104 [00:00<?, ?it/s]"
      ]
     },
     "metadata": {},
     "output_type": "display_data"
    },
    {
     "name": "stdout",
     "output_type": "stream",
     "text": [
      "Epoch [8], Train Loss : [0.06074] Val Loss : [0.06030] Val ACC : [0.97683] Val F1 : [0.97221]\n"
     ]
    },
    {
     "data": {
      "application/vnd.jupyter.widget-view+json": {
       "model_id": "297254a9f75f4c90b328edfbaf2a7ccf",
       "version_major": 2,
       "version_minor": 0
      },
      "text/plain": [
       "  0%|          | 0/413 [00:00<?, ?it/s]"
      ]
     },
     "metadata": {},
     "output_type": "display_data"
    },
    {
     "data": {
      "application/vnd.jupyter.widget-view+json": {
       "model_id": "3c5076a99d144c45ab0b69e007fdc331",
       "version_major": 2,
       "version_minor": 0
      },
      "text/plain": [
       "  0%|          | 0/104 [00:00<?, ?it/s]"
      ]
     },
     "metadata": {},
     "output_type": "display_data"
    },
    {
     "name": "stdout",
     "output_type": "stream",
     "text": [
      "Epoch [9], Train Loss : [0.05409] Val Loss : [0.05993] Val ACC : [0.97788] Val F1 : [0.97351]\n"
     ]
    },
    {
     "data": {
      "application/vnd.jupyter.widget-view+json": {
       "model_id": "04d4685c51bb48beaf1b583578b7541a",
       "version_major": 2,
       "version_minor": 0
      },
      "text/plain": [
       "  0%|          | 0/413 [00:00<?, ?it/s]"
      ]
     },
     "metadata": {},
     "output_type": "display_data"
    },
    {
     "data": {
      "application/vnd.jupyter.widget-view+json": {
       "model_id": "835446e5c634439080a77c2698d44d86",
       "version_major": 2,
       "version_minor": 0
      },
      "text/plain": [
       "  0%|          | 0/104 [00:00<?, ?it/s]"
      ]
     },
     "metadata": {},
     "output_type": "display_data"
    },
    {
     "name": "stdout",
     "output_type": "stream",
     "text": [
      "Epoch [10], Train Loss : [0.04978] Val Loss : [0.05498] Val ACC : [0.97923] Val F1 : [0.97462]\n"
     ]
    },
    {
     "data": {
      "application/vnd.jupyter.widget-view+json": {
       "model_id": "858f477e96334ca8ace0b24d85b00f86",
       "version_major": 2,
       "version_minor": 0
      },
      "text/plain": [
       "  0%|          | 0/413 [00:00<?, ?it/s]"
      ]
     },
     "metadata": {},
     "output_type": "display_data"
    },
    {
     "data": {
      "application/vnd.jupyter.widget-view+json": {
       "model_id": "a4d41bc076404b1bb2969a329aa07eba",
       "version_major": 2,
       "version_minor": 0
      },
      "text/plain": [
       "  0%|          | 0/104 [00:00<?, ?it/s]"
      ]
     },
     "metadata": {},
     "output_type": "display_data"
    },
    {
     "name": "stdout",
     "output_type": "stream",
     "text": [
      "Epoch [11], Train Loss : [0.04667] Val Loss : [0.05263] Val ACC : [0.98066] Val F1 : [0.97636]\n"
     ]
    },
    {
     "data": {
      "application/vnd.jupyter.widget-view+json": {
       "model_id": "2f90ac080c1c41ada40a047b536d06eb",
       "version_major": 2,
       "version_minor": 0
      },
      "text/plain": [
       "  0%|          | 0/413 [00:00<?, ?it/s]"
      ]
     },
     "metadata": {},
     "output_type": "display_data"
    },
    {
     "data": {
      "application/vnd.jupyter.widget-view+json": {
       "model_id": "6caab4926e014807adb7e00e78985706",
       "version_major": 2,
       "version_minor": 0
      },
      "text/plain": [
       "  0%|          | 0/104 [00:00<?, ?it/s]"
      ]
     },
     "metadata": {},
     "output_type": "display_data"
    },
    {
     "name": "stdout",
     "output_type": "stream",
     "text": [
      "Epoch [12], Train Loss : [0.04258] Val Loss : [0.05574] Val ACC : [0.97834] Val F1 : [0.97404]\n"
     ]
    },
    {
     "data": {
      "application/vnd.jupyter.widget-view+json": {
       "model_id": "297fd3e362c9499b8b50872da9ced111",
       "version_major": 2,
       "version_minor": 0
      },
      "text/plain": [
       "  0%|          | 0/413 [00:00<?, ?it/s]"
      ]
     },
     "metadata": {},
     "output_type": "display_data"
    },
    {
     "data": {
      "application/vnd.jupyter.widget-view+json": {
       "model_id": "a16d1ea5124d4e0b8e8a0ec8c5347e59",
       "version_major": 2,
       "version_minor": 0
      },
      "text/plain": [
       "  0%|          | 0/104 [00:00<?, ?it/s]"
      ]
     },
     "metadata": {},
     "output_type": "display_data"
    },
    {
     "name": "stdout",
     "output_type": "stream",
     "text": [
      "Epoch [13], Train Loss : [0.04269] Val Loss : [0.05382] Val ACC : [0.98080] Val F1 : [0.97668]\n"
     ]
    },
    {
     "data": {
      "application/vnd.jupyter.widget-view+json": {
       "model_id": "737d30945bfb40bfa50b4c64777c8c10",
       "version_major": 2,
       "version_minor": 0
      },
      "text/plain": [
       "  0%|          | 0/413 [00:00<?, ?it/s]"
      ]
     },
     "metadata": {},
     "output_type": "display_data"
    },
    {
     "data": {
      "application/vnd.jupyter.widget-view+json": {
       "model_id": "116a1bdb125f4465a740387d00294f8a",
       "version_major": 2,
       "version_minor": 0
      },
      "text/plain": [
       "  0%|          | 0/104 [00:00<?, ?it/s]"
      ]
     },
     "metadata": {},
     "output_type": "display_data"
    },
    {
     "name": "stdout",
     "output_type": "stream",
     "text": [
      "Epoch [14], Train Loss : [0.04046] Val Loss : [0.04923] Val ACC : [0.98111] Val F1 : [0.97700]\n"
     ]
    },
    {
     "data": {
      "application/vnd.jupyter.widget-view+json": {
       "model_id": "5ecda7d2f37843ac947e282efa559a70",
       "version_major": 2,
       "version_minor": 0
      },
      "text/plain": [
       "  0%|          | 0/413 [00:00<?, ?it/s]"
      ]
     },
     "metadata": {},
     "output_type": "display_data"
    },
    {
     "data": {
      "application/vnd.jupyter.widget-view+json": {
       "model_id": "318e86077c38433f882891674766e88f",
       "version_major": 2,
       "version_minor": 0
      },
      "text/plain": [
       "  0%|          | 0/104 [00:00<?, ?it/s]"
      ]
     },
     "metadata": {},
     "output_type": "display_data"
    },
    {
     "name": "stdout",
     "output_type": "stream",
     "text": [
      "Epoch [15], Train Loss : [0.03532] Val Loss : [0.04647] Val ACC : [0.98298] Val F1 : [0.97924]\n"
     ]
    },
    {
     "data": {
      "application/vnd.jupyter.widget-view+json": {
       "model_id": "585d6dbe433c4c67991746ef77dcfe5f",
       "version_major": 2,
       "version_minor": 0
      },
      "text/plain": [
       "  0%|          | 0/413 [00:00<?, ?it/s]"
      ]
     },
     "metadata": {},
     "output_type": "display_data"
    },
    {
     "data": {
      "application/vnd.jupyter.widget-view+json": {
       "model_id": "5a9f8455685c474f86fc27ec42576850",
       "version_major": 2,
       "version_minor": 0
      },
      "text/plain": [
       "  0%|          | 0/104 [00:00<?, ?it/s]"
      ]
     },
     "metadata": {},
     "output_type": "display_data"
    },
    {
     "name": "stdout",
     "output_type": "stream",
     "text": [
      "Epoch [16], Train Loss : [0.03595] Val Loss : [0.05019] Val ACC : [0.98143] Val F1 : [0.97748]\n"
     ]
    },
    {
     "data": {
      "application/vnd.jupyter.widget-view+json": {
       "model_id": "7cc13ea646d2433ca4f363ebecf135fa",
       "version_major": 2,
       "version_minor": 0
      },
      "text/plain": [
       "  0%|          | 0/413 [00:00<?, ?it/s]"
      ]
     },
     "metadata": {},
     "output_type": "display_data"
    },
    {
     "data": {
      "application/vnd.jupyter.widget-view+json": {
       "model_id": "374bbc77c7504c83923bfa4e28486948",
       "version_major": 2,
       "version_minor": 0
      },
      "text/plain": [
       "  0%|          | 0/104 [00:00<?, ?it/s]"
      ]
     },
     "metadata": {},
     "output_type": "display_data"
    },
    {
     "name": "stdout",
     "output_type": "stream",
     "text": [
      "Epoch [17], Train Loss : [0.03510] Val Loss : [0.04450] Val ACC : [0.98377] Val F1 : [0.98001]\n"
     ]
    },
    {
     "data": {
      "application/vnd.jupyter.widget-view+json": {
       "model_id": "7bf155813dfa43b0ad1d5484a1fa3809",
       "version_major": 2,
       "version_minor": 0
      },
      "text/plain": [
       "  0%|          | 0/413 [00:00<?, ?it/s]"
      ]
     },
     "metadata": {},
     "output_type": "display_data"
    },
    {
     "data": {
      "application/vnd.jupyter.widget-view+json": {
       "model_id": "36632ba275b64b53a77517220b48aadd",
       "version_major": 2,
       "version_minor": 0
      },
      "text/plain": [
       "  0%|          | 0/104 [00:00<?, ?it/s]"
      ]
     },
     "metadata": {},
     "output_type": "display_data"
    },
    {
     "name": "stdout",
     "output_type": "stream",
     "text": [
      "Epoch [18], Train Loss : [0.03351] Val Loss : [0.05750] Val ACC : [0.98078] Val F1 : [0.97659]\n"
     ]
    },
    {
     "data": {
      "application/vnd.jupyter.widget-view+json": {
       "model_id": "3529c3979c2f46f0b3ae7a264ffe3d5f",
       "version_major": 2,
       "version_minor": 0
      },
      "text/plain": [
       "  0%|          | 0/413 [00:00<?, ?it/s]"
      ]
     },
     "metadata": {},
     "output_type": "display_data"
    },
    {
     "data": {
      "application/vnd.jupyter.widget-view+json": {
       "model_id": "a7a9d0d26c544865b378bc0ea5473e41",
       "version_major": 2,
       "version_minor": 0
      },
      "text/plain": [
       "  0%|          | 0/104 [00:00<?, ?it/s]"
      ]
     },
     "metadata": {},
     "output_type": "display_data"
    },
    {
     "name": "stdout",
     "output_type": "stream",
     "text": [
      "Epoch [19], Train Loss : [0.03413] Val Loss : [0.03745] Val ACC : [0.98603] Val F1 : [0.98260]\n"
     ]
    },
    {
     "data": {
      "application/vnd.jupyter.widget-view+json": {
       "model_id": "ab155d4c264745f683a56c4e193aed0d",
       "version_major": 2,
       "version_minor": 0
      },
      "text/plain": [
       "  0%|          | 0/413 [00:00<?, ?it/s]"
      ]
     },
     "metadata": {},
     "output_type": "display_data"
    },
    {
     "data": {
      "application/vnd.jupyter.widget-view+json": {
       "model_id": "725fc9513b484622869940ea703fd45f",
       "version_major": 2,
       "version_minor": 0
      },
      "text/plain": [
       "  0%|          | 0/104 [00:00<?, ?it/s]"
      ]
     },
     "metadata": {},
     "output_type": "display_data"
    },
    {
     "name": "stdout",
     "output_type": "stream",
     "text": [
      "Epoch [20], Train Loss : [0.02910] Val Loss : [0.03859] Val ACC : [0.98664] Val F1 : [0.98346]\n"
     ]
    },
    {
     "data": {
      "application/vnd.jupyter.widget-view+json": {
       "model_id": "9e2c305fff114fe981b74a900419a927",
       "version_major": 2,
       "version_minor": 0
      },
      "text/plain": [
       "  0%|          | 0/413 [00:00<?, ?it/s]"
      ]
     },
     "metadata": {},
     "output_type": "display_data"
    },
    {
     "data": {
      "application/vnd.jupyter.widget-view+json": {
       "model_id": "0b52c48c212648fa898fb4aa3a351cfd",
       "version_major": 2,
       "version_minor": 0
      },
      "text/plain": [
       "  0%|          | 0/104 [00:00<?, ?it/s]"
      ]
     },
     "metadata": {},
     "output_type": "display_data"
    },
    {
     "name": "stdout",
     "output_type": "stream",
     "text": [
      "Epoch [21], Train Loss : [0.02994] Val Loss : [0.03694] Val ACC : [0.98684] Val F1 : [0.98367]\n"
     ]
    },
    {
     "data": {
      "application/vnd.jupyter.widget-view+json": {
       "model_id": "5f39c4aa6f6b4145927678b3befc6d50",
       "version_major": 2,
       "version_minor": 0
      },
      "text/plain": [
       "  0%|          | 0/413 [00:00<?, ?it/s]"
      ]
     },
     "metadata": {},
     "output_type": "display_data"
    },
    {
     "data": {
      "application/vnd.jupyter.widget-view+json": {
       "model_id": "c5e26e8bf8b84ae68b6525aeeef52ce1",
       "version_major": 2,
       "version_minor": 0
      },
      "text/plain": [
       "  0%|          | 0/104 [00:00<?, ?it/s]"
      ]
     },
     "metadata": {},
     "output_type": "display_data"
    },
    {
     "name": "stdout",
     "output_type": "stream",
     "text": [
      "Epoch [22], Train Loss : [0.02751] Val Loss : [0.04631] Val ACC : [0.98422] Val F1 : [0.98048]\n"
     ]
    },
    {
     "data": {
      "application/vnd.jupyter.widget-view+json": {
       "model_id": "eda89ae6eee445749b8408c23439463d",
       "version_major": 2,
       "version_minor": 0
      },
      "text/plain": [
       "  0%|          | 0/413 [00:00<?, ?it/s]"
      ]
     },
     "metadata": {},
     "output_type": "display_data"
    },
    {
     "data": {
      "application/vnd.jupyter.widget-view+json": {
       "model_id": "b65787a61863436dbf2eec5d37880d24",
       "version_major": 2,
       "version_minor": 0
      },
      "text/plain": [
       "  0%|          | 0/104 [00:00<?, ?it/s]"
      ]
     },
     "metadata": {},
     "output_type": "display_data"
    },
    {
     "name": "stdout",
     "output_type": "stream",
     "text": [
      "Epoch [23], Train Loss : [0.02790] Val Loss : [0.04505] Val ACC : [0.98462] Val F1 : [0.98097]\n"
     ]
    },
    {
     "data": {
      "application/vnd.jupyter.widget-view+json": {
       "model_id": "60d03dfe258e44a2a2f3175bc3a3c1a6",
       "version_major": 2,
       "version_minor": 0
      },
      "text/plain": [
       "  0%|          | 0/413 [00:00<?, ?it/s]"
      ]
     },
     "metadata": {},
     "output_type": "display_data"
    },
    {
     "data": {
      "application/vnd.jupyter.widget-view+json": {
       "model_id": "51c62f8c05de48adaf5f5dc163d4ad11",
       "version_major": 2,
       "version_minor": 0
      },
      "text/plain": [
       "  0%|          | 0/104 [00:00<?, ?it/s]"
      ]
     },
     "metadata": {},
     "output_type": "display_data"
    },
    {
     "name": "stdout",
     "output_type": "stream",
     "text": [
      "Epoch [24], Train Loss : [0.02930] Val Loss : [0.04013] Val ACC : [0.98535] Val F1 : [0.98197]\n",
      "Best Loss : [0.03694] Best ACC : [0.98367]\n"
     ]
    }
   ],
   "source": [
    "train_dataset = CustomDataset(train_x['img_path'].values, train_labels, train_transform)\n",
    "train_loader = DataLoader(train_dataset, batch_size = CFG['BATCH_SIZE'], shuffle=True, num_workers=CFG['NUM_WORKERS'])\n",
    "\n",
    "val_dataset = CustomDataset(valid_x['img_path'].values, valid_labels, test_transform)\n",
    "val_loader = DataLoader(val_dataset, batch_size = CFG['BATCH_SIZE'], shuffle=False, num_workers=CFG['NUM_WORKERS'])\n",
    "\n",
    "model = Densenet()\n",
    "model = nn.DataParallel(model)\n",
    "model.eval()\n",
    "\n",
    "optimizer = torch.optim.Adam(params=model.parameters(), lr=CFG[\"LEARNING_RATE\"], weight_decay=CFG[\"WEIGHT_DECAY\"])\n",
    "# scheduler = torch.optim.lr_scheduler.ReduceLROnPlateau(optimizer, mode='max', factor=0.5, patience=2, threshold_mode='abs', min_lr=1e-8, verbose=True)\n",
    "# scheduler = torch.optim.lr_scheduler.CosineAnnealingLR(optimizer, T_max=20, eta_min=0, )\n",
    "scheduler = torch.optim.lr_scheduler.MultiStepLR(optimizer, milestones=[ int(CFG[\"EPOCHS\"]*0.2), int(CFG[\"EPOCHS\"]*0.4), int(CFG[\"EPOCHS\"]*0.6)], gamma=0.7)\n",
    "\n",
    "infer_model = train(model, optimizer, train_loader, val_loader, scheduler, device)"
   ]
  },
  {
   "cell_type": "markdown",
   "id": "7e1e9dff-166c-4a92-8ef2-a20fdabb2159",
   "metadata": {},
   "source": [
    "## Inference"
   ]
  },
  {
   "cell_type": "code",
   "execution_count": 24,
   "id": "3b4b136a-1347-4fe1-81fa-f02526decd8e",
   "metadata": {},
   "outputs": [],
   "source": [
    "test = pd.read_csv('./data/test.csv')\n",
    "test['img_path'] = test['img_path'].apply(lambda x: x.replace('./test/', './data/test/'))"
   ]
  },
  {
   "cell_type": "code",
   "execution_count": 25,
   "id": "fe1f74b1-a362-48ee-9db1-9fe0dc858870",
   "metadata": {},
   "outputs": [],
   "source": [
    "test_dataset = CustomDataset(test['img_path'].values, None, test_transform)\n",
    "test_loader = DataLoader(test_dataset, batch_size = CFG['BATCH_SIZE'], shuffle=False, num_workers=CFG['NUM_WORKERS'])"
   ]
  },
  {
   "cell_type": "code",
   "execution_count": 26,
   "id": "104a3240-e8c1-44b2-b39d-295a89fdb2f3",
   "metadata": {},
   "outputs": [],
   "source": [
    "def inference(model, test_loader, device):\n",
    "    model.to(device)\n",
    "    model.eval()\n",
    "    predictions = []\n",
    "    with torch.no_grad():\n",
    "        for imgs in tqdm(iter(test_loader)):\n",
    "            imgs = imgs.float().to(device)\n",
    "            \n",
    "            probs = model(imgs)\n",
    "\n",
    "            probs  = probs.cpu().detach().numpy()\n",
    "            preds = probs > 0.5\n",
    "            preds = preds.astype(int)\n",
    "            predictions += preds.tolist()\n",
    "    return predictions"
   ]
  },
  {
   "cell_type": "markdown",
   "id": "18dad5b3-0f81-4663-894e-0f07e167b205",
   "metadata": {},
   "source": [
    "## TTA (Test Time Augmentation)"
   ]
  },
  {
   "cell_type": "code",
   "execution_count": 32,
   "id": "ccfcf19f-9260-4126-92b8-82fbb9a578e5",
   "metadata": {},
   "outputs": [],
   "source": [
    "import ttach as tta"
   ]
  },
  {
   "cell_type": "code",
   "execution_count": 33,
   "id": "a1da78c3-f9ab-49dc-961c-acd045df671a",
   "metadata": {},
   "outputs": [],
   "source": [
    "tta_transforms = tta.Compose(\n",
    "    [   \n",
    "        tta.HorizontalFlip(),\n",
    "        tta.Rotate90(angles=[0, 5, 355]),\n",
    "        tta.Multiply(factors=[0.9, 1, 1.1])\n",
    "    ]\n",
    ")"
   ]
  },
  {
   "cell_type": "code",
   "execution_count": 34,
   "id": "ca3ee075-790e-400f-a937-1d97e9104e22",
   "metadata": {},
   "outputs": [],
   "source": [
    "tta_model = tta.ClassificationTTAWrapper(infer_model, tta_transforms)"
   ]
  },
  {
   "cell_type": "code",
   "execution_count": 35,
   "id": "459206e2-7d5d-492a-a10d-7945813930a0",
   "metadata": {},
   "outputs": [
    {
     "data": {
      "application/vnd.jupyter.widget-view+json": {
       "model_id": "cc62bf6106204e9e96da472bf34ea799",
       "version_major": 2,
       "version_minor": 0
      },
      "text/plain": [
       "  0%|          | 0/23 [00:00<?, ?it/s]"
      ]
     },
     "metadata": {},
     "output_type": "display_data"
    },
    {
     "data": {
      "application/vnd.jupyter.widget-view+json": {
       "model_id": "c56a2d89e12a40bdb2d6715396d62508",
       "version_major": 2,
       "version_minor": 0
      },
      "text/plain": [
       "  0%|          | 0/23 [00:00<?, ?it/s]"
      ]
     },
     "metadata": {},
     "output_type": "display_data"
    }
   ],
   "source": [
    "# preds = inference(infer_model, test_loader, device)\n",
    "preds_tta = inference(tta_model, test_loader, device)"
   ]
  },
  {
   "cell_type": "markdown",
   "id": "ccbdf39e-c0b8-4615-8aca-8345ae94a020",
   "metadata": {},
   "source": [
    "## Submission"
   ]
  },
  {
   "cell_type": "code",
   "execution_count": null,
   "id": "ffbc9b39-4abd-46f1-a44b-14dea487e6f5",
   "metadata": {},
   "outputs": [],
   "source": [
    "file_name = 'Densenet201_9836_img224'"
   ]
  },
  {
   "cell_type": "code",
   "execution_count": null,
   "id": "1754fbb0-323d-49ec-b173-976bd4ed942b",
   "metadata": {},
   "outputs": [],
   "source": [
    "submit = pd.read_csv('./data/sample_submission.csv')"
   ]
  },
  {
   "cell_type": "code",
   "execution_count": 37,
   "id": "9a14acae-25cf-4491-9aa1-92ffd6f3d4b2",
   "metadata": {},
   "outputs": [
    {
     "data": {
      "text/html": [
       "<div>\n",
       "<style scoped>\n",
       "    .dataframe tbody tr th:only-of-type {\n",
       "        vertical-align: middle;\n",
       "    }\n",
       "\n",
       "    .dataframe tbody tr th {\n",
       "        vertical-align: top;\n",
       "    }\n",
       "\n",
       "    .dataframe thead th {\n",
       "        text-align: right;\n",
       "    }\n",
       "</style>\n",
       "<table border=\"1\" class=\"dataframe\">\n",
       "  <thead>\n",
       "    <tr style=\"text-align: right;\">\n",
       "      <th></th>\n",
       "      <th>id</th>\n",
       "      <th>A</th>\n",
       "      <th>B</th>\n",
       "      <th>C</th>\n",
       "      <th>D</th>\n",
       "      <th>E</th>\n",
       "      <th>F</th>\n",
       "      <th>G</th>\n",
       "      <th>H</th>\n",
       "      <th>I</th>\n",
       "      <th>J</th>\n",
       "    </tr>\n",
       "  </thead>\n",
       "  <tbody>\n",
       "    <tr>\n",
       "      <th>0</th>\n",
       "      <td>TEST_00000</td>\n",
       "      <td>0</td>\n",
       "      <td>1</td>\n",
       "      <td>0</td>\n",
       "      <td>0</td>\n",
       "      <td>0</td>\n",
       "      <td>0</td>\n",
       "      <td>1</td>\n",
       "      <td>0</td>\n",
       "      <td>1</td>\n",
       "      <td>0</td>\n",
       "    </tr>\n",
       "    <tr>\n",
       "      <th>1</th>\n",
       "      <td>TEST_00001</td>\n",
       "      <td>0</td>\n",
       "      <td>1</td>\n",
       "      <td>0</td>\n",
       "      <td>0</td>\n",
       "      <td>0</td>\n",
       "      <td>1</td>\n",
       "      <td>0</td>\n",
       "      <td>0</td>\n",
       "      <td>1</td>\n",
       "      <td>1</td>\n",
       "    </tr>\n",
       "    <tr>\n",
       "      <th>2</th>\n",
       "      <td>TEST_00002</td>\n",
       "      <td>1</td>\n",
       "      <td>1</td>\n",
       "      <td>0</td>\n",
       "      <td>0</td>\n",
       "      <td>1</td>\n",
       "      <td>1</td>\n",
       "      <td>0</td>\n",
       "      <td>1</td>\n",
       "      <td>0</td>\n",
       "      <td>1</td>\n",
       "    </tr>\n",
       "    <tr>\n",
       "      <th>3</th>\n",
       "      <td>TEST_00003</td>\n",
       "      <td>1</td>\n",
       "      <td>1</td>\n",
       "      <td>0</td>\n",
       "      <td>0</td>\n",
       "      <td>0</td>\n",
       "      <td>1</td>\n",
       "      <td>0</td>\n",
       "      <td>1</td>\n",
       "      <td>1</td>\n",
       "      <td>0</td>\n",
       "    </tr>\n",
       "    <tr>\n",
       "      <th>4</th>\n",
       "      <td>TEST_00004</td>\n",
       "      <td>0</td>\n",
       "      <td>0</td>\n",
       "      <td>0</td>\n",
       "      <td>0</td>\n",
       "      <td>1</td>\n",
       "      <td>0</td>\n",
       "      <td>0</td>\n",
       "      <td>0</td>\n",
       "      <td>0</td>\n",
       "      <td>0</td>\n",
       "    </tr>\n",
       "  </tbody>\n",
       "</table>\n",
       "</div>"
      ],
      "text/plain": [
       "           id  A  B  C  D  E  F  G  H  I  J\n",
       "0  TEST_00000  0  1  0  0  0  0  1  0  1  0\n",
       "1  TEST_00001  0  1  0  0  0  1  0  0  1  1\n",
       "2  TEST_00002  1  1  0  0  1  1  0  1  0  1\n",
       "3  TEST_00003  1  1  0  0  0  1  0  1  1  0\n",
       "4  TEST_00004  0  0  0  0  1  0  0  0  0  0"
      ]
     },
     "execution_count": 37,
     "metadata": {},
     "output_type": "execute_result"
    }
   ],
   "source": [
    "submit.iloc[:,1:] = preds\n",
    "submit.head()"
   ]
  },
  {
   "cell_type": "code",
   "execution_count": 38,
   "id": "5898cffc-3500-4a13-80dd-0a3785e79a80",
   "metadata": {},
   "outputs": [],
   "source": [
    "submit.to_csv(f'./submits/{file_name}.csv', index=False)"
   ]
  },
  {
   "cell_type": "code",
   "execution_count": null,
   "id": "a8ee5c48-5238-4f8a-b90c-8ed652903371",
   "metadata": {},
   "outputs": [],
   "source": [
    "submit = pd.read_csv('./data/sample_submission.csv')"
   ]
  },
  {
   "cell_type": "code",
   "execution_count": null,
   "id": "433f7063-12d7-4a2e-9c38-1c5ef3b8eb39",
   "metadata": {},
   "outputs": [],
   "source": [
    "submit.iloc[:,1:] = preds_tta\n",
    "submit.head()"
   ]
  },
  {
   "cell_type": "code",
   "execution_count": null,
   "id": "3a2f3934-66b0-4b24-b327-899cc756243d",
   "metadata": {},
   "outputs": [],
   "source": [
    "submit.to_csv(f'./submits/tta_{file_name}.csv', index=False)"
   ]
  }
 ],
 "metadata": {
  "kernelspec": {
   "display_name": "Python [conda env:DACON] *",
   "language": "python",
   "name": "conda-env-DACON-py"
  },
  "language_info": {
   "codemirror_mode": {
    "name": "ipython",
    "version": 3
   },
   "file_extension": ".py",
   "mimetype": "text/x-python",
   "name": "python",
   "nbconvert_exporter": "python",
   "pygments_lexer": "ipython3",
   "version": "3.8.10"
  }
 },
 "nbformat": 4,
 "nbformat_minor": 5
}
